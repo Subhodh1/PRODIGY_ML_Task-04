{
 "cells": [
  {
   "cell_type": "markdown",
   "id": "9a2a653f",
   "metadata": {
    "papermill": {
     "duration": 0.010106,
     "end_time": "2024-04-26T02:26:59.649978",
     "exception": false,
     "start_time": "2024-04-26T02:26:59.639872",
     "status": "completed"
    },
    "tags": []
   },
   "source": [
    "# Hand Gesture Recogntion using CNN (Accuracy 98%)"
   ]
  },
  {
   "cell_type": "markdown",
   "id": "96ad6e72",
   "metadata": {
    "papermill": {
     "duration": 0.009653,
     "end_time": "2024-04-26T02:26:59.669738",
     "exception": false,
     "start_time": "2024-04-26T02:26:59.660085",
     "status": "completed"
    },
    "tags": []
   },
   "source": [
    "<a id=\"Section 1:Import Necessary Libraries:\"></a>\n",
    "# Import Necessary Libraries"
   ]
  },
  {
   "cell_type": "code",
   "execution_count": 5,
   "id": "90755249",
   "metadata": {
    "execution": {
     "iopub.execute_input": "2024-04-26T02:26:59.692578Z",
     "iopub.status.busy": "2024-04-26T02:26:59.692116Z",
     "iopub.status.idle": "2024-04-26T02:27:19.918039Z",
     "shell.execute_reply": "2024-04-26T02:27:19.916531Z"
    },
    "papermill": {
     "duration": 20.241917,
     "end_time": "2024-04-26T02:27:19.922078",
     "exception": false,
     "start_time": "2024-04-26T02:26:59.680161",
     "status": "completed"
    },
    "tags": []
   },
   "outputs": [],
   "source": [
    "import os\n",
    "import numpy as np # linear algebra\n",
    "import pandas as pd # data processing, CSV file I/O (e.g. pd.read_csv)\n",
    "import matplotlib.pyplot as plt #for different plot\n",
    "from sklearn.preprocessing import OneHotEncoder #for data preprocessing\n",
    "from sklearn.preprocessing import StandardScaler #for scaling data\n",
    "from sklearn.model_selection import train_test_split\n",
    "#for data preprocessing using keras\n",
    "from tensorflow.keras.preprocessing.image import array_to_img, img_to_array, load_img\n",
    "import tensorflow as tf\n",
    "from tensorflow.keras.preprocessing.image import ImageDataGenerator\n",
    "# keras classes required for building deep CNN model\n",
    "from keras.models import Sequential, save_model, load_model\n",
    "from keras.layers import Dense, Conv2D, MaxPooling2D, Flatten, Activation, Dropout \n",
    "from keras.utils import plot_model\n",
    "import plotly.express as px\n",
    "from plotly.subplots import make_subplots\n",
    "import plotly.graph_objects as go\n",
    "import plotly.figure_factory as ff\n",
    "\n",
    "\n"
   ]
  },
  {
   "cell_type": "markdown",
   "id": "ba29a529",
   "metadata": {
    "papermill": {
     "duration": 0.009605,
     "end_time": "2024-04-26T02:27:19.941694",
     "exception": false,
     "start_time": "2024-04-26T02:27:19.932089",
     "status": "completed"
    },
    "tags": []
   },
   "source": [
    "<a id=\"Section 1:read dataset including folders, subfolders, and images :\"></a>\n",
    "# Read Images and Labels in the Dataset  \n",
    "\n"
   ]
  },
  {
   "cell_type": "code",
   "execution_count": 16,
   "id": "7fb10d72",
   "metadata": {
    "execution": {
     "iopub.execute_input": "2024-04-26T02:27:19.963137Z",
     "iopub.status.busy": "2024-04-26T02:27:19.962268Z",
     "iopub.status.idle": "2024-04-26T02:27:29.214514Z",
     "shell.execute_reply": "2024-04-26T02:27:29.213225Z"
    },
    "papermill": {
     "duration": 9.266362,
     "end_time": "2024-04-26T02:27:29.217559",
     "exception": false,
     "start_time": "2024-04-26T02:27:19.951197",
     "status": "completed"
    },
    "tags": []
   },
   "outputs": [],
   "source": [
    "images=[]\n",
    "labels=[]\n",
    "\n",
    "# oop over top 10 folders\n",
    "for directory in os.listdir(r'C:\\Users\\Subhodh Bijjur\\Downloads\\archive (5)\\leapGestRecog'):\n",
    "    for subdir in os.listdir(os.path.join(r'C:\\Users\\Subhodh Bijjur\\Downloads\\archive (5)\\leapGestRecog',directory)):\n",
    "#         if directory=='01':\n",
    "#             labels.append(subdir)\n",
    "        for image in os.listdir(os.path.join(r'C:\\Users\\Subhodh Bijjur\\Downloads\\archive (5)\\leapGestRecog',directory, subdir)):\n",
    "            img_path = os.path.join(r'C:\\Users\\Subhodh Bijjur\\Downloads\\archive (5)\\leapGestRecog', directory, subdir, image)\n",
    "            images.append(img_path)\n",
    "            labels.append(subdir)\n",
    "\n",
    "        \n",
    "# print(labels)"
   ]
  },
  {
   "cell_type": "markdown",
   "id": "2eec0765",
   "metadata": {
    "papermill": {
     "duration": 0.009464,
     "end_time": "2024-04-26T02:27:29.237035",
     "exception": false,
     "start_time": "2024-04-26T02:27:29.227571",
     "status": "completed"
    },
    "tags": []
   },
   "source": [
    "<a id=\"Section 1:Create DataFrame for Images&Labels:\"></a>\n",
    "# Read Images and Labels in the Dataset  "
   ]
  },
  {
   "cell_type": "code",
   "execution_count": 17,
   "id": "46a12422",
   "metadata": {
    "execution": {
     "iopub.execute_input": "2024-04-26T02:27:29.259110Z",
     "iopub.status.busy": "2024-04-26T02:27:29.258223Z",
     "iopub.status.idle": "2024-04-26T02:27:29.287708Z",
     "shell.execute_reply": "2024-04-26T02:27:29.286124Z"
    },
    "papermill": {
     "duration": 0.043681,
     "end_time": "2024-04-26T02:27:29.290525",
     "exception": false,
     "start_time": "2024-04-26T02:27:29.246844",
     "status": "completed"
    },
    "tags": []
   },
   "outputs": [
    {
     "data": {
      "text/html": [
       "<div>\n",
       "<style scoped>\n",
       "    .dataframe tbody tr th:only-of-type {\n",
       "        vertical-align: middle;\n",
       "    }\n",
       "\n",
       "    .dataframe tbody tr th {\n",
       "        vertical-align: top;\n",
       "    }\n",
       "\n",
       "    .dataframe thead th {\n",
       "        text-align: right;\n",
       "    }\n",
       "</style>\n",
       "<table border=\"1\" class=\"dataframe\">\n",
       "  <thead>\n",
       "    <tr style=\"text-align: right;\">\n",
       "      <th></th>\n",
       "      <th>Image</th>\n",
       "      <th>Label</th>\n",
       "    </tr>\n",
       "  </thead>\n",
       "  <tbody>\n",
       "    <tr>\n",
       "      <th>20095</th>\n",
       "      <td>C:\\Users\\Subhodh Bijjur\\Downloads\\archive (5)\\...</td>\n",
       "      <td>09</td>\n",
       "    </tr>\n",
       "    <tr>\n",
       "      <th>20096</th>\n",
       "      <td>C:\\Users\\Subhodh Bijjur\\Downloads\\archive (5)\\...</td>\n",
       "      <td>09</td>\n",
       "    </tr>\n",
       "    <tr>\n",
       "      <th>20097</th>\n",
       "      <td>C:\\Users\\Subhodh Bijjur\\Downloads\\archive (5)\\...</td>\n",
       "      <td>09</td>\n",
       "    </tr>\n",
       "    <tr>\n",
       "      <th>20098</th>\n",
       "      <td>C:\\Users\\Subhodh Bijjur\\Downloads\\archive (5)\\...</td>\n",
       "      <td>09</td>\n",
       "    </tr>\n",
       "    <tr>\n",
       "      <th>20099</th>\n",
       "      <td>C:\\Users\\Subhodh Bijjur\\Downloads\\archive (5)\\...</td>\n",
       "      <td>09</td>\n",
       "    </tr>\n",
       "  </tbody>\n",
       "</table>\n",
       "</div>"
      ],
      "text/plain": [
       "                                                   Image Label\n",
       "20095  C:\\Users\\Subhodh Bijjur\\Downloads\\archive (5)\\...    09\n",
       "20096  C:\\Users\\Subhodh Bijjur\\Downloads\\archive (5)\\...    09\n",
       "20097  C:\\Users\\Subhodh Bijjur\\Downloads\\archive (5)\\...    09\n",
       "20098  C:\\Users\\Subhodh Bijjur\\Downloads\\archive (5)\\...    09\n",
       "20099  C:\\Users\\Subhodh Bijjur\\Downloads\\archive (5)\\...    09"
      ]
     },
     "execution_count": 17,
     "metadata": {},
     "output_type": "execute_result"
    }
   ],
   "source": [
    "#include both image path and labels into dataframe\n",
    "df = pd.DataFrame({'Image':images,'Label':labels})\n",
    "df.tail()\n",
    "# df.info()\n"
   ]
  },
  {
   "cell_type": "markdown",
   "id": "a2d5c3cf",
   "metadata": {
    "papermill": {
     "duration": 0.010158,
     "end_time": "2024-04-26T02:27:29.314402",
     "exception": false,
     "start_time": "2024-04-26T02:27:29.304244",
     "status": "completed"
    },
    "tags": []
   },
   "source": [
    "<a id=\"Section 1:Randomly Display some labeled images from the dataset:\"></a>\n",
    "# Randomly Display some labeled images from the dataset "
   ]
  },
  {
   "cell_type": "code",
   "execution_count": 18,
   "id": "456db632",
   "metadata": {
    "execution": {
     "iopub.execute_input": "2024-04-26T02:27:29.337074Z",
     "iopub.status.busy": "2024-04-26T02:27:29.336318Z",
     "iopub.status.idle": "2024-04-26T02:27:31.226724Z",
     "shell.execute_reply": "2024-04-26T02:27:31.225718Z"
    },
    "papermill": {
     "duration": 1.907114,
     "end_time": "2024-04-26T02:27:31.231679",
     "exception": false,
     "start_time": "2024-04-26T02:27:29.324565",
     "status": "completed"
    },
    "tags": []
   },
   "outputs": [
    {
     "name": "stdout",
     "output_type": "stream",
     "text": [
      "[[<Axes: > <Axes: > <Axes: > <Axes: > <Axes: >]\n",
      " [<Axes: > <Axes: > <Axes: > <Axes: > <Axes: >]]\n"
     ]
    },
    {
     "data": {
      "image/png": "[encoded data removed]",
      "text/plain": [
       "<Figure size 1200x1200 with 10 Axes>"
      ]
     },
     "metadata": {},
     "output_type": "display_data"
    }
   ],
   "source": [
    "\n",
    "df_img = df['Image']\n",
    "df_label = df['Label']\n",
    "\n",
    "nrows=2\n",
    "ncols = 5\n",
    "fig,axx = plt.subplots(nrows,ncols, figsize=(12,12))\n",
    "fig.suptitle(\"Random Hand Getures Images\")\n",
    "print(axx)\n",
    "# axx = axx.ravel()\n",
    "for i in range(nrows):\n",
    "        for j in range(ncols):\n",
    "                n = np.random.randint(0,20000)\n",
    "                img = load_img(df['Image'][n],target_size=(150,150)) #this is a PIL image\n",
    "                img = img_to_array(img) #this is a numpy array with shape (3,150,150)\n",
    "                img = np.expand_dims(img,axis=0) #expand image dimention to (1,3,255,255)\n",
    "                img /= 255.0 #scale image values between 0,1\n",
    "                label = df_label[n]\n",
    "                #changing size from (1,150,150,3) into (150,150,3)\n",
    "                image = np.squeeze(img)\n",
    "                axx[i][j].imshow(image)\n",
    "                axx[i][j].set_title(label)\n",
    "plt.show()\n",
    "plt.close()\n"
   ]
  },
  {
   "cell_type": "markdown",
   "id": "728e3736",
   "metadata": {
    "papermill": {
     "duration": 0.01531,
     "end_time": "2024-04-26T02:27:31.261117",
     "exception": false,
     "start_time": "2024-04-26T02:27:31.245807",
     "status": "completed"
    },
    "tags": []
   },
   "source": [
    "<a id=\"Split Dataset into 80% for training 15%,15% for validation and testing:\"></a>\n",
    "# Split Dataset into 70% for training 15%,15% for validation and testing"
   ]
  },
  {
   "cell_type": "code",
   "execution_count": 19,
   "id": "4ec50381",
   "metadata": {
    "execution": {
     "iopub.execute_input": "2024-04-26T02:27:31.293537Z",
     "iopub.status.busy": "2024-04-26T02:27:31.292733Z",
     "iopub.status.idle": "2024-04-26T02:27:31.344719Z",
     "shell.execute_reply": "2024-04-26T02:27:31.343232Z"
    },
    "papermill": {
     "duration": 0.071647,
     "end_time": "2024-04-26T02:27:31.348104",
     "exception": false,
     "start_time": "2024-04-26T02:27:31.276457",
     "status": "completed"
    },
    "tags": []
   },
   "outputs": [
    {
     "name": "stdout",
     "output_type": "stream",
     "text": [
      "<class 'pandas.core.frame.DataFrame'>\n",
      "Index: 14070 entries, 17041 to 5419\n",
      "Data columns (total 2 columns):\n",
      " #   Column  Non-Null Count  Dtype \n",
      "---  ------  --------------  ----- \n",
      " 0   Image   14070 non-null  object\n",
      " 1   Label   14070 non-null  object\n",
      "dtypes: object(2)\n",
      "memory usage: 329.8+ KB\n",
      "<class 'pandas.core.frame.DataFrame'>\n",
      "Index: 3015 entries, 9035 to 5145\n",
      "Data columns (total 2 columns):\n",
      " #   Column  Non-Null Count  Dtype \n",
      "---  ------  --------------  ----- \n",
      " 0   Image   3015 non-null   object\n",
      " 1   Label   3015 non-null   object\n",
      "dtypes: object(2)\n",
      "memory usage: 70.7+ KB\n",
      "<class 'pandas.core.frame.DataFrame'>\n",
      "Index: 3015 entries, 14186 to 327\n",
      "Data columns (total 2 columns):\n",
      " #   Column  Non-Null Count  Dtype \n",
      "---  ------  --------------  ----- \n",
      " 0   Image   3015 non-null   object\n",
      " 1   Label   3015 non-null   object\n",
      "dtypes: object(2)\n",
      "memory usage: 70.7+ KB\n"
     ]
    }
   ],
   "source": [
    "x_train,x = train_test_split(df, test_size = 0.3)\n",
    "# train_x, test_x, train_y, test_y = train_test_split(images,labels,test_size=0.2)\n",
    "x_valid,x_test = train_test_split(x,test_size=0.5)\n",
    "x_train.info()\n",
    "x_valid.info()\n",
    "x_test.info()\n"
   ]
  },
  {
   "cell_type": "markdown",
   "id": "9a84af88",
   "metadata": {
    "papermill": {
     "duration": 0.014516,
     "end_time": "2024-04-26T02:27:31.377235",
     "exception": false,
     "start_time": "2024-04-26T02:27:31.362719",
     "status": "completed"
    },
    "tags": []
   },
   "source": [
    "<a id=\"Data Augmentation:\"></a>\n",
    "# Data Augmentation "
   ]
  },
  {
   "cell_type": "code",
   "execution_count": 20,
   "id": "e3232274",
   "metadata": {
    "execution": {
     "iopub.execute_input": "2024-04-26T02:27:31.410163Z",
     "iopub.status.busy": "2024-04-26T02:27:31.409674Z",
     "iopub.status.idle": "2024-04-26T02:27:31.418153Z",
     "shell.execute_reply": "2024-04-26T02:27:31.416591Z"
    },
    "papermill": {
     "duration": 0.028666,
     "end_time": "2024-04-26T02:27:31.421050",
     "exception": false,
     "start_time": "2024-04-26T02:27:31.392384",
     "status": "completed"
    },
    "tags": []
   },
   "outputs": [],
   "source": [
    "#data augmentation\n",
    "datagen = ImageDataGenerator(\n",
    "        rotation_range=10, # rotation\n",
    "        width_shift_range=0.2, # horizontal shift\n",
    "        height_shift_range=0.2, # vertical shift\n",
    "        zoom_range=0.2, # zoom\n",
    "        horizontal_flip=True, # horizontal flip\n",
    "        brightness_range=[0.2,1.2]) # brightness\n",
    "\n",
    "\n",
    "train_datagen = ImageDataGenerator(rescale=1.0/255,\n",
    "                                 shear_range=0.2,\n",
    "                                 zoom_range=0.2,\n",
    "                                 horizontal_flip=True)\n",
    "validate_datagen = ImageDataGenerator(rescale=1.0/255)"
   ]
  },
  {
   "cell_type": "code",
   "execution_count": 21,
   "id": "9ec3688f",
   "metadata": {
    "execution": {
     "iopub.execute_input": "2024-04-26T02:27:31.451556Z",
     "iopub.status.busy": "2024-04-26T02:27:31.451068Z",
     "iopub.status.idle": "2024-04-26T02:27:44.544830Z",
     "shell.execute_reply": "2024-04-26T02:27:44.542983Z"
    },
    "papermill": {
     "duration": 13.112978,
     "end_time": "2024-04-26T02:27:44.547882",
     "exception": false,
     "start_time": "2024-04-26T02:27:31.434904",
     "status": "completed"
    },
    "tags": []
   },
   "outputs": [
    {
     "name": "stdout",
     "output_type": "stream",
     "text": [
      "Found 13994 validated image filenames belonging to 10 classes.\n"
     ]
    },
    {
     "name": "stderr",
     "output_type": "stream",
     "text": [
      "c:\\Users\\Subhodh Bijjur\\anaconda3\\envs\\tfgpu\\lib\\site-packages\\keras\\preprocessing\\image.py:1139: UserWarning: Found 76 invalid image filename(s) in x_col=\"Image\". These filename(s) will be ignored.\n",
      "  warnings.warn(\n"
     ]
    },
    {
     "name": "stdout",
     "output_type": "stream",
     "text": [
      "Found 3000 validated image filenames belonging to 10 classes.\n"
     ]
    },
    {
     "name": "stderr",
     "output_type": "stream",
     "text": [
      "c:\\Users\\Subhodh Bijjur\\anaconda3\\envs\\tfgpu\\lib\\site-packages\\keras\\preprocessing\\image.py:1139: UserWarning: Found 15 invalid image filename(s) in x_col=\"Image\". These filename(s) will be ignored.\n",
      "  warnings.warn(\n"
     ]
    }
   ],
   "source": [
    "b_size =1\n",
    "train_generator = train_datagen.flow_from_dataframe(dataframe=x_train,x_col=\"Image\",y_col='Label',class_mode=\"categorical\",target_size=(150,150),batch_size=b_size,seed=2020, shuffle=True)\n",
    "valid_generator = validate_datagen.flow_from_dataframe(dataframe=x_valid,x_col=\"Image\",y_col='Label',class_mode=\"categorical\",target_size=(150,150),batch_size=b_size,seed=2020, shuffle=False)\n"
   ]
  },
  {
   "cell_type": "code",
   "execution_count": 22,
   "id": "7e54957e",
   "metadata": {
    "execution": {
     "iopub.execute_input": "2024-04-26T02:27:44.577805Z",
     "iopub.status.busy": "2024-04-26T02:27:44.577315Z",
     "iopub.status.idle": "2024-04-26T02:27:45.053530Z",
     "shell.execute_reply": "2024-04-26T02:27:45.051950Z"
    },
    "papermill": {
     "duration": 0.494407,
     "end_time": "2024-04-26T02:27:45.056413",
     "exception": false,
     "start_time": "2024-04-26T02:27:44.562006",
     "status": "completed"
    },
    "tags": []
   },
   "outputs": [
    {
     "data": {
      "image/png": "[encoded data removed]",
      "text/plain": [
       "<Figure size 1500x1500 with 4 Axes>"
      ]
     },
     "metadata": {},
     "output_type": "display_data"
    }
   ],
   "source": [
    "#plot some augmented images\n",
    "fig,axx = plt.subplots(nrows=1,ncols=4, figsize=(15,15))\n",
    "\n",
    "for i in range(4):\n",
    "    #convert into unsigned integers for plotting\n",
    "    image = next(train_generator)[0].astype('float64')\n",
    "    #changing size from (1,150,150,3) into (150,150,3)\n",
    "    image = np.squeeze(image)\n",
    "    #plot row pixel data\n",
    "    axx[i].imshow(image)\n",
    "    axx[i].axis('off')\n",
    "\n"
   ]
  },
  {
   "cell_type": "code",
   "execution_count": 23,
   "id": "04b7acd5",
   "metadata": {
    "execution": {
     "iopub.execute_input": "2024-04-26T02:27:45.090215Z",
     "iopub.status.busy": "2024-04-26T02:27:45.089771Z",
     "iopub.status.idle": "2024-04-26T02:27:45.095917Z",
     "shell.execute_reply": "2024-04-26T02:27:45.094404Z"
    },
    "papermill": {
     "duration": 0.026791,
     "end_time": "2024-04-26T02:27:45.098669",
     "exception": false,
     "start_time": "2024-04-26T02:27:45.071878",
     "status": "completed"
    },
    "tags": []
   },
   "outputs": [],
   "source": [
    "# #[3]:\n",
    "\n",
    "# images list & labels list\n",
    "# images = []\n",
    "# labels = []\n",
    "\n",
    "# image = df['Image']\n",
    "# img = load_img(image[i],target_size=(150,150)) #this is a PIL image\n",
    "\n",
    "# for i in range(len(df)):\n",
    "#     img = load_img(image[i])\n",
    "#     x = img_to_array(img) #this is a numpy array with shape (3,150,150)\n",
    "# #     x = np.expand_dims(x,axis=0) #expand image dimention to (1,3,255,255)\n",
    "# #     x /= 255.0 #scale image values between 0,1\n",
    "#     images.append(x)\n",
    "#     label = df_label[i]\n",
    "#     labels.append(label)\n",
    "\n",
    "    \n"
   ]
  },
  {
   "cell_type": "markdown",
   "id": "7ddd94da",
   "metadata": {
    "papermill": {
     "duration": 0.015846,
     "end_time": "2024-04-26T02:27:45.130622",
     "exception": false,
     "start_time": "2024-04-26T02:27:45.114776",
     "status": "completed"
    },
    "tags": []
   },
   "source": [
    "<a id=\"Build Convolutional Neural Network Model (CNN):\"></a>\n",
    "# Build Convolutional Neural Network Model (CNN)"
   ]
  },
  {
   "cell_type": "code",
   "execution_count": 24,
   "id": "2b58cfc7",
   "metadata": {
    "execution": {
     "iopub.execute_input": "2024-04-26T02:27:45.164313Z",
     "iopub.status.busy": "2024-04-26T02:27:45.163831Z",
     "iopub.status.idle": "2024-04-26T02:27:45.471141Z",
     "shell.execute_reply": "2024-04-26T02:27:45.469599Z"
    },
    "papermill": {
     "duration": 0.327359,
     "end_time": "2024-04-26T02:27:45.473696",
     "exception": false,
     "start_time": "2024-04-26T02:27:45.146337",
     "status": "completed"
    },
    "tags": []
   },
   "outputs": [
    {
     "name": "stdout",
     "output_type": "stream",
     "text": [
      "Model: \"sequential\"\n",
      "_________________________________________________________________\n",
      " Layer (type)                Output Shape              Param #   \n",
      "=================================================================\n",
      " conv2d (Conv2D)             (None, 148, 148, 32)      896       \n",
      "                                                                 \n",
      " activation (Activation)     (None, 148, 148, 32)      0         \n",
      "                                                                 \n",
      " max_pooling2d (MaxPooling2D  (None, 74, 74, 32)       0         \n",
      " )                                                               \n",
      "                                                                 \n",
      " conv2d_1 (Conv2D)           (None, 72, 72, 32)        9248      \n",
      "                                                                 \n",
      " activation_1 (Activation)   (None, 72, 72, 32)        0         \n",
      "                                                                 \n",
      " max_pooling2d_1 (MaxPooling  (None, 36, 36, 32)       0         \n",
      " 2D)                                                             \n",
      "                                                                 \n",
      " conv2d_2 (Conv2D)           (None, 34, 34, 64)        18496     \n",
      "                                                                 \n",
      " activation_2 (Activation)   (None, 34, 34, 64)        0         \n",
      "                                                                 \n",
      " max_pooling2d_2 (MaxPooling  (None, 17, 17, 64)       0         \n",
      " 2D)                                                             \n",
      "                                                                 \n",
      " flatten (Flatten)           (None, 18496)             0         \n",
      "                                                                 \n",
      " dense (Dense)               (None, 64)                1183808   \n",
      "                                                                 \n",
      " activation_3 (Activation)   (None, 64)                0         \n",
      "                                                                 \n",
      " dropout (Dropout)           (None, 64)                0         \n",
      "                                                                 \n",
      " dense_1 (Dense)             (None, 10)                650       \n",
      "                                                                 \n",
      " activation_4 (Activation)   (None, 10)                0         \n",
      "                                                                 \n",
      "=================================================================\n",
      "Total params: 1,213,098\n",
      "Trainable params: 1,213,098\n",
      "Non-trainable params: 0\n",
      "_________________________________________________________________\n"
     ]
    }
   ],
   "source": [
    "#Build Convolutional Neural Network Model (CNN)¶\n",
    "\n",
    "#3 Cov2D layers with Relu activation functions followed by max-pooling layers that ouput 3D feature maps \n",
    "model = Sequential()\n",
    "model.add(Conv2D(32,(3,3), input_shape=(150,150,3)))\n",
    "model.add(Activation('relu'))\n",
    "model.add(MaxPooling2D(pool_size=(2,2)))\n",
    "\n",
    "model.add(Conv2D(32,(3,3)))\n",
    "model.add(Activation('relu'))\n",
    "model.add(MaxPooling2D(pool_size=(2,2)))\n",
    "\n",
    "model.add(Conv2D(64,(3,3)))\n",
    "model.add(Activation('relu'))\n",
    "model.add(MaxPooling2D(pool_size=(2,2)))\n",
    "\n",
    "# on top of the model we add 2 fully connected layers to flatten the 3D feature maps into 10 feature victors representing 10 differnet categories of hanf geatures\n",
    "model.add(Flatten())\n",
    "model.add(Dense(64))\n",
    "model.add(Activation('relu'))\n",
    "model.add(Dropout(0.2))\n",
    "model.add(Dense(10))\n",
    "model.add(Activation('softmax'))\n",
    "\n",
    "model.compile(loss=tf.keras.losses.CategoricalCrossentropy(from_logits=False),\n",
    "             optimizer = 'adam',\n",
    "             metrics=[tf.keras.metrics.CategoricalAccuracy()])\n",
    "model.summary()\n"
   ]
  },
  {
   "cell_type": "markdown",
   "id": "058ec4aa",
   "metadata": {
    "papermill": {
     "duration": 0.016781,
     "end_time": "2024-04-26T02:27:45.507465",
     "exception": false,
     "start_time": "2024-04-26T02:27:45.490684",
     "status": "completed"
    },
    "tags": []
   },
   "source": [
    "<a id=\"Visualize Model:\"></a>\n",
    "# Visualize Model"
   ]
  },
  {
   "cell_type": "code",
   "execution_count": 25,
   "id": "ed070b8e",
   "metadata": {
    "execution": {
     "iopub.execute_input": "2024-04-26T02:27:45.544356Z",
     "iopub.status.busy": "2024-04-26T02:27:45.543941Z",
     "iopub.status.idle": "2024-04-26T02:27:46.447222Z",
     "shell.execute_reply": "2024-04-26T02:27:46.445883Z"
    },
    "papermill": {
     "duration": 0.931844,
     "end_time": "2024-04-26T02:27:46.456220",
     "exception": false,
     "start_time": "2024-04-26T02:27:45.524376",
     "status": "completed"
    },
    "tags": []
   },
   "outputs": [
    {
     "name": "stdout",
     "output_type": "stream",
     "text": [
      "You must install pydot (`pip install pydot`) and install graphviz (see instructions at https://graphviz.gitlab.io/download/) for plot_model to work.\n"
     ]
    }
   ],
   "source": [
    "# Visualize model\n",
    "plot_model(\n",
    "    model,\n",
    "    to_file=\"model.png\",\n",
    "    show_shapes=True,\n",
    "    show_dtype=True,\n",
    "    show_layer_names=True \n",
    ")\n"
   ]
  },
  {
   "cell_type": "markdown",
   "id": "1c18de83",
   "metadata": {
    "papermill": {
     "duration": 0.026164,
     "end_time": "2024-04-26T02:27:46.509096",
     "exception": false,
     "start_time": "2024-04-26T02:27:46.482932",
     "status": "completed"
    },
    "tags": []
   },
   "source": [
    "<a id=\"Train and save Model:\"></a>\n",
    "# Train and save Model"
   ]
  },
  {
   "cell_type": "code",
   "execution_count": 26,
   "id": "3de24ebd",
   "metadata": {
    "execution": {
     "iopub.execute_input": "2024-04-26T02:27:46.566882Z",
     "iopub.status.busy": "2024-04-26T02:27:46.565467Z",
     "iopub.status.idle": "2024-04-26T02:51:46.577006Z",
     "shell.execute_reply": "2024-04-26T02:51:46.575556Z"
    },
    "papermill": {
     "duration": 1440.045014,
     "end_time": "2024-04-26T02:51:46.580340",
     "exception": false,
     "start_time": "2024-04-26T02:27:46.535326",
     "status": "completed"
    },
    "tags": []
   },
   "outputs": [
    {
     "name": "stdout",
     "output_type": "stream",
     "text": [
      "Epoch 1/20\n",
      "2000/2000 [==============================] - 27s 8ms/step - loss: 1.3546 - categorical_accuracy: 0.5665 - val_loss: 0.3989 - val_categorical_accuracy: 0.9125\n",
      "Epoch 2/20\n",
      "2000/2000 [==============================] - 15s 8ms/step - loss: 0.5222 - categorical_accuracy: 0.8320 - val_loss: 0.1440 - val_categorical_accuracy: 0.9600\n",
      "Epoch 3/20\n",
      "2000/2000 [==============================] - 15s 7ms/step - loss: 0.3126 - categorical_accuracy: 0.8955 - val_loss: 0.1011 - val_categorical_accuracy: 0.9688\n",
      "Epoch 4/20\n",
      "2000/2000 [==============================] - 14s 7ms/step - loss: 0.2476 - categorical_accuracy: 0.9230 - val_loss: 0.0395 - val_categorical_accuracy: 0.9875\n",
      "Epoch 5/20\n",
      "2000/2000 [==============================] - 13s 7ms/step - loss: 0.2043 - categorical_accuracy: 0.9450 - val_loss: 0.0614 - val_categorical_accuracy: 0.9837\n",
      "Epoch 6/20\n",
      "2000/2000 [==============================] - 14s 7ms/step - loss: 0.1623 - categorical_accuracy: 0.9430 - val_loss: 0.0424 - val_categorical_accuracy: 0.9887\n",
      "Epoch 7/20\n",
      "2000/2000 [==============================] - 15s 7ms/step - loss: 0.1724 - categorical_accuracy: 0.9545 - val_loss: 0.0483 - val_categorical_accuracy: 0.9887\n",
      "Epoch 8/20\n",
      "2000/2000 [==============================] - 16s 8ms/step - loss: 0.1181 - categorical_accuracy: 0.9635 - val_loss: 0.0379 - val_categorical_accuracy: 0.9900\n",
      "Epoch 9/20\n",
      "2000/2000 [==============================] - 14s 7ms/step - loss: 0.1061 - categorical_accuracy: 0.9650 - val_loss: 0.0229 - val_categorical_accuracy: 0.9925\n",
      "Epoch 10/20\n",
      "2000/2000 [==============================] - 15s 7ms/step - loss: 0.1176 - categorical_accuracy: 0.9655 - val_loss: 0.0135 - val_categorical_accuracy: 0.9962\n",
      "Epoch 11/20\n",
      "2000/2000 [==============================] - 15s 7ms/step - loss: 0.0990 - categorical_accuracy: 0.9690 - val_loss: 0.0192 - val_categorical_accuracy: 0.9950\n",
      "Epoch 12/20\n",
      "2000/2000 [==============================] - 14s 7ms/step - loss: 0.0886 - categorical_accuracy: 0.9725 - val_loss: 0.0183 - val_categorical_accuracy: 0.9950\n",
      "Epoch 13/20\n",
      "2000/2000 [==============================] - 13s 7ms/step - loss: 0.0917 - categorical_accuracy: 0.9740 - val_loss: 0.0048 - val_categorical_accuracy: 0.9975\n",
      "Epoch 14/20\n",
      "2000/2000 [==============================] - 15s 7ms/step - loss: 0.1155 - categorical_accuracy: 0.9615 - val_loss: 0.0213 - val_categorical_accuracy: 0.9937\n",
      "Epoch 15/20\n",
      "2000/2000 [==============================] - 15s 7ms/step - loss: 0.0667 - categorical_accuracy: 0.9810 - val_loss: 0.0088 - val_categorical_accuracy: 0.9950\n",
      "Epoch 16/20\n",
      "2000/2000 [==============================] - 14s 7ms/step - loss: 0.0816 - categorical_accuracy: 0.9775 - val_loss: 0.0193 - val_categorical_accuracy: 0.9925\n",
      "Epoch 17/20\n",
      "2000/2000 [==============================] - 14s 7ms/step - loss: 0.0749 - categorical_accuracy: 0.9775 - val_loss: 0.0404 - val_categorical_accuracy: 0.9887\n",
      "Epoch 18/20\n",
      "2000/2000 [==============================] - 14s 7ms/step - loss: 0.0577 - categorical_accuracy: 0.9780 - val_loss: 0.0126 - val_categorical_accuracy: 0.9962\n",
      "Epoch 19/20\n",
      "2000/2000 [==============================] - 13s 7ms/step - loss: 0.0768 - categorical_accuracy: 0.9805 - val_loss: 0.0235 - val_categorical_accuracy: 0.9937\n",
      "Epoch 20/20\n",
      "2000/2000 [==============================] - 14s 7ms/step - loss: 0.0721 - categorical_accuracy: 0.9765 - val_loss: 0.0021 - val_categorical_accuracy: 1.0000\n"
     ]
    }
   ],
   "source": [
    "#train Test data in the model\n",
    "history = model.fit(train_generator,\n",
    "                   steps_per_epoch=2000//b_size,\n",
    "                   epochs = 20,\n",
    "                   validation_data = valid_generator,\n",
    "                    validation_steps=800//b_size)\n",
    "                   \n",
    "model.save('handG_R.h5')"
   ]
  },
  {
   "cell_type": "code",
   "execution_count": 27,
   "id": "c53382e5",
   "metadata": {
    "execution": {
     "iopub.execute_input": "2024-04-26T02:51:50.372170Z",
     "iopub.status.busy": "2024-04-26T02:51:50.370760Z",
     "iopub.status.idle": "2024-04-26T02:51:50.379787Z",
     "shell.execute_reply": "2024-04-26T02:51:50.378749Z"
    },
    "papermill": {
     "duration": 1.903503,
     "end_time": "2024-04-26T02:51:50.382127",
     "exception": false,
     "start_time": "2024-04-26T02:51:48.478624",
     "status": "completed"
    },
    "tags": []
   },
   "outputs": [
    {
     "data": {
      "text/plain": [
       "{'loss': [1.3545520305633545,\n",
       "  0.5222012996673584,\n",
       "  0.3125830888748169,\n",
       "  0.24764227867126465,\n",
       "  0.2042759358882904,\n",
       "  0.1623004972934723,\n",
       "  0.1723509430885315,\n",
       "  0.11807873845100403,\n",
       "  0.10612780600786209,\n",
       "  0.1175619438290596,\n",
       "  0.09901601821184158,\n",
       "  0.08856022357940674,\n",
       "  0.09165941923856735,\n",
       "  0.11553322523832321,\n",
       "  0.06665574014186859,\n",
       "  0.08156415820121765,\n",
       "  0.07493849843740463,\n",
       "  0.05767710506916046,\n",
       "  0.07682734727859497,\n",
       "  0.07212647050619125],\n",
       " 'categorical_accuracy': [0.5665000081062317,\n",
       "  0.8320000171661377,\n",
       "  0.8955000042915344,\n",
       "  0.9229999780654907,\n",
       "  0.9449999928474426,\n",
       "  0.9430000185966492,\n",
       "  0.9545000195503235,\n",
       "  0.9635000228881836,\n",
       "  0.9649999737739563,\n",
       "  0.965499997138977,\n",
       "  0.968999981880188,\n",
       "  0.9725000262260437,\n",
       "  0.9739999771118164,\n",
       "  0.9614999890327454,\n",
       "  0.9810000061988831,\n",
       "  0.9775000214576721,\n",
       "  0.9775000214576721,\n",
       "  0.9779999852180481,\n",
       "  0.9804999828338623,\n",
       "  0.9764999747276306],\n",
       " 'val_loss': [0.39889347553253174,\n",
       "  0.14403995871543884,\n",
       "  0.10107404738664627,\n",
       "  0.039489634335041046,\n",
       "  0.06142793223261833,\n",
       "  0.042385533452034,\n",
       "  0.04828087240457535,\n",
       "  0.03793125972151756,\n",
       "  0.02292218618094921,\n",
       "  0.013486235402524471,\n",
       "  0.019224215298891068,\n",
       "  0.01827661506831646,\n",
       "  0.004848589189350605,\n",
       "  0.02128925547003746,\n",
       "  0.008802641183137894,\n",
       "  0.01925022341310978,\n",
       "  0.040382008999586105,\n",
       "  0.012575783766806126,\n",
       "  0.023486247286200523,\n",
       "  0.0021037207916378975],\n",
       " 'val_categorical_accuracy': [0.9125000238418579,\n",
       "  0.9599999785423279,\n",
       "  0.96875,\n",
       "  0.987500011920929,\n",
       "  0.9837499856948853,\n",
       "  0.9887499809265137,\n",
       "  0.9887499809265137,\n",
       "  0.9900000095367432,\n",
       "  0.9925000071525574,\n",
       "  0.9962499737739563,\n",
       "  0.9950000047683716,\n",
       "  0.9950000047683716,\n",
       "  0.9975000023841858,\n",
       "  0.9937499761581421,\n",
       "  0.9950000047683716,\n",
       "  0.9925000071525574,\n",
       "  0.9887499809265137,\n",
       "  0.9962499737739563,\n",
       "  0.9937499761581421,\n",
       "  1.0]}"
      ]
     },
     "execution_count": 27,
     "metadata": {},
     "output_type": "execute_result"
    }
   ],
   "source": [
    "# display loss & accuracy \n",
    "history.history"
   ]
  },
  {
   "cell_type": "markdown",
   "id": "f18e3f60",
   "metadata": {
    "papermill": {
     "duration": 1.888995,
     "end_time": "2024-04-26T02:51:54.086880",
     "exception": false,
     "start_time": "2024-04-26T02:51:52.197885",
     "status": "completed"
    },
    "tags": []
   },
   "source": [
    "<a id=\"Visualize training&validation loss:\"></a>\n",
    "# Visualize training&validation loss"
   ]
  },
  {
   "cell_type": "code",
   "execution_count": 39,
   "id": "1de42c3c",
   "metadata": {
    "execution": {
     "iopub.execute_input": "2024-04-26T02:51:57.910020Z",
     "iopub.status.busy": "2024-04-26T02:51:57.908452Z",
     "iopub.status.idle": "2024-04-26T02:51:59.451516Z",
     "shell.execute_reply": "2024-04-26T02:51:59.450186Z"
    },
    "papermill": {
     "duration": 3.42961,
     "end_time": "2024-04-26T02:51:59.454237",
     "exception": false,
     "start_time": "2024-04-26T02:51:56.024627",
     "status": "completed"
    },
    "tags": []
   },
   "outputs": [
    {
     "ename": "ValueError",
     "evalue": "Mime type rendering requires nbformat>=4.2.0 but it is not installed",
     "output_type": "error",
     "traceback": [
      "\u001b[1;31m---------------------------------------------------------------------------\u001b[0m",
      "\u001b[1;31mValueError\u001b[0m                                Traceback (most recent call last)",
      "File \u001b[1;32mc:\\Users\\Subhodh Bijjur\\anaconda3\\envs\\tfgpu\\lib\\site-packages\\IPython\\core\\formatters.py:925\u001b[0m, in \u001b[0;36mIPythonDisplayFormatter.__call__\u001b[1;34m(self, obj)\u001b[0m\n\u001b[0;32m    923\u001b[0m method \u001b[38;5;241m=\u001b[39m get_real_method(obj, \u001b[38;5;28mself\u001b[39m\u001b[38;5;241m.\u001b[39mprint_method)\n\u001b[0;32m    924\u001b[0m \u001b[38;5;28;01mif\u001b[39;00m method \u001b[38;5;129;01mis\u001b[39;00m \u001b[38;5;129;01mnot\u001b[39;00m \u001b[38;5;28;01mNone\u001b[39;00m:\n\u001b[1;32m--> 925\u001b[0m     \u001b[43mmethod\u001b[49m\u001b[43m(\u001b[49m\u001b[43m)\u001b[49m\n\u001b[0;32m    926\u001b[0m     \u001b[38;5;28;01mreturn\u001b[39;00m \u001b[38;5;28;01mTrue\u001b[39;00m\n",
      "File \u001b[1;32mc:\\Users\\Subhodh Bijjur\\anaconda3\\envs\\tfgpu\\lib\\site-packages\\plotly\\basedatatypes.py:832\u001b[0m, in \u001b[0;36mBaseFigure._ipython_display_\u001b[1;34m(self)\u001b[0m\n\u001b[0;32m    829\u001b[0m \u001b[38;5;28;01mimport\u001b[39;00m \u001b[38;5;21;01mplotly\u001b[39;00m\u001b[38;5;21;01m.\u001b[39;00m\u001b[38;5;21;01mio\u001b[39;00m \u001b[38;5;28;01mas\u001b[39;00m \u001b[38;5;21;01mpio\u001b[39;00m\n\u001b[0;32m    831\u001b[0m \u001b[38;5;28;01mif\u001b[39;00m pio\u001b[38;5;241m.\u001b[39mrenderers\u001b[38;5;241m.\u001b[39mrender_on_display \u001b[38;5;129;01mand\u001b[39;00m pio\u001b[38;5;241m.\u001b[39mrenderers\u001b[38;5;241m.\u001b[39mdefault:\n\u001b[1;32m--> 832\u001b[0m     \u001b[43mpio\u001b[49m\u001b[38;5;241;43m.\u001b[39;49m\u001b[43mshow\u001b[49m\u001b[43m(\u001b[49m\u001b[38;5;28;43mself\u001b[39;49m\u001b[43m)\u001b[49m\n\u001b[0;32m    833\u001b[0m \u001b[38;5;28;01melse\u001b[39;00m:\n\u001b[0;32m    834\u001b[0m     \u001b[38;5;28mprint\u001b[39m(\u001b[38;5;28mrepr\u001b[39m(\u001b[38;5;28mself\u001b[39m))\n",
      "File \u001b[1;32mc:\\Users\\Subhodh Bijjur\\anaconda3\\envs\\tfgpu\\lib\\site-packages\\plotly\\io\\_renderers.py:394\u001b[0m, in \u001b[0;36mshow\u001b[1;34m(fig, renderer, validate, **kwargs)\u001b[0m\n\u001b[0;32m    389\u001b[0m         \u001b[38;5;28;01mraise\u001b[39;00m \u001b[38;5;167;01mValueError\u001b[39;00m(\n\u001b[0;32m    390\u001b[0m             \u001b[38;5;124m\"\u001b[39m\u001b[38;5;124mMime type rendering requires ipython but it is not installed\u001b[39m\u001b[38;5;124m\"\u001b[39m\n\u001b[0;32m    391\u001b[0m         )\n\u001b[0;32m    393\u001b[0m     \u001b[38;5;28;01mif\u001b[39;00m \u001b[38;5;129;01mnot\u001b[39;00m nbformat \u001b[38;5;129;01mor\u001b[39;00m Version(nbformat\u001b[38;5;241m.\u001b[39m__version__) \u001b[38;5;241m<\u001b[39m Version(\u001b[38;5;124m\"\u001b[39m\u001b[38;5;124m4.2.0\u001b[39m\u001b[38;5;124m\"\u001b[39m):\n\u001b[1;32m--> 394\u001b[0m         \u001b[38;5;28;01mraise\u001b[39;00m \u001b[38;5;167;01mValueError\u001b[39;00m(\n\u001b[0;32m    395\u001b[0m             \u001b[38;5;124m\"\u001b[39m\u001b[38;5;124mMime type rendering requires nbformat>=4.2.0 but it is not installed\u001b[39m\u001b[38;5;124m\"\u001b[39m\n\u001b[0;32m    396\u001b[0m         )\n\u001b[0;32m    398\u001b[0m     ipython_display\u001b[38;5;241m.\u001b[39mdisplay(bundle, raw\u001b[38;5;241m=\u001b[39m\u001b[38;5;28;01mTrue\u001b[39;00m)\n\u001b[0;32m    400\u001b[0m \u001b[38;5;66;03m# external renderers\u001b[39;00m\n",
      "\u001b[1;31mValueError\u001b[0m: Mime type rendering requires nbformat>=4.2.0 but it is not installed"
     ]
    },
    {
     "data": {
      "application/vnd.plotly.v1+json": {
       "config": {
        "plotlyServerURL": "https://plot.ly"
       },
       "data": [
        {
         "line": {
          "color": "blue"
         },
         "marker": {
          "size": 3
         },
         "mode": "lines",
         "name": "training loss",
         "type": "scatter",
         "x": [
          0,
          1,
          2,
          3,
          4,
          5,
          6,
          7,
          8,
          9,
          10,
          11,
          12,
          13,
          14,
          15,
          16,
          17,
          18,
          19
         ],
         "y": [
          1.3545520305633545,
          0.5222012996673584,
          0.3125830888748169,
          0.24764227867126465,
          0.2042759358882904,
          0.1623004972934723,
          0.1723509430885315,
          0.11807873845100403,
          0.10612780600786209,
          0.1175619438290596,
          0.09901601821184158,
          0.08856022357940674,
          0.09165941923856735,
          0.11553322523832321,
          0.06665574014186859,
          0.08156415820121765,
          0.07493849843740463,
          0.05767710506916046,
          0.07682734727859497,
          0.07212647050619125
         ]
        },
        {
         "line": {
          "color": "grey"
         },
         "mode": "lines",
         "name": "Validation loss",
         "type": "scatter",
         "x": [
          0,
          1,
          2,
          3,
          4,
          5,
          6,
          7,
          8,
          9,
          10,
          11,
          12,
          13,
          14,
          15,
          16,
          17,
          18,
          19
         ],
         "y": [
          0.39889347553253174,
          0.14403995871543884,
          0.10107404738664627,
          0.039489634335041046,
          0.06142793223261833,
          0.042385533452034,
          0.04828087240457535,
          0.03793125972151756,
          0.02292218618094921,
          0.013486235402524471,
          0.019224215298891068,
          0.01827661506831646,
          0.004848589189350605,
          0.02128925547003746,
          0.008802641183137894,
          0.01925022341310978,
          0.040382008999586105,
          0.012575783766806126,
          0.023486247286200523,
          0.0021037207916378975
         ]
        }
       ],
       "layout": {
        "paper_bgcolor": "white",
        "plot_bgcolor": "#f2f8fd",
        "template": {
         "data": {
          "bar": [
           {
            "error_x": {
             "color": "#2a3f5f"
            },
            "error_y": {
             "color": "#2a3f5f"
            },
            "marker": {
             "line": {
              "color": "white",
              "width": 0.5
             },
             "pattern": {
              "fillmode": "overlay",
              "size": 10,
              "solidity": 0.2
             }
            },
            "type": "bar"
           }
          ],
          "barpolar": [
           {
            "marker": {
             "line": {
              "color": "white",
              "width": 0.5
             },
             "pattern": {
              "fillmode": "overlay",
              "size": 10,
              "solidity": 0.2
             }
            },
            "type": "barpolar"
           }
          ],
          "carpet": [
           {
            "aaxis": {
             "endlinecolor": "#2a3f5f",
             "gridcolor": "#C8D4E3",
             "linecolor": "#C8D4E3",
             "minorgridcolor": "#C8D4E3",
             "startlinecolor": "#2a3f5f"
            },
            "baxis": {
             "endlinecolor": "#2a3f5f",
             "gridcolor": "#C8D4E3",
             "linecolor": "#C8D4E3",
             "minorgridcolor": "#C8D4E3",
             "startlinecolor": "#2a3f5f"
            },
            "type": "carpet"
           }
          ],
          "choropleth": [
           {
            "colorbar": {
             "outlinewidth": 0,
             "ticks": ""
            },
            "type": "choropleth"
           }
          ],
          "contour": [
           {
            "colorbar": {
             "outlinewidth": 0,
             "ticks": ""
            },
            "colorscale": [
             [
              0,
              "#0d0887"
             ],
             [
              0.1111111111111111,
              "#46039f"
             ],
             [
              0.2222222222222222,
              "#7201a8"
             ],
             [
              0.3333333333333333,
              "#9c179e"
             ],
             [
              0.4444444444444444,
              "#bd3786"
             ],
             [
              0.5555555555555556,
              "#d8576b"
             ],
             [
              0.6666666666666666,
              "#ed7953"
             ],
             [
              0.7777777777777778,
              "#fb9f3a"
             ],
             [
              0.8888888888888888,
              "#fdca26"
             ],
             [
              1,
              "#f0f921"
             ]
            ],
            "type": "contour"
           }
          ],
          "contourcarpet": [
           {
            "colorbar": {
             "outlinewidth": 0,
             "ticks": ""
            },
            "type": "contourcarpet"
           }
          ],
          "heatmap": [
           {
            "colorbar": {
             "outlinewidth": 0,
             "ticks": ""
            },
            "colorscale": [
             [
              0,
              "#0d0887"
             ],
             [
              0.1111111111111111,
              "#46039f"
             ],
             [
              0.2222222222222222,
              "#7201a8"
             ],
             [
              0.3333333333333333,
              "#9c179e"
             ],
             [
              0.4444444444444444,
              "#bd3786"
             ],
             [
              0.5555555555555556,
              "#d8576b"
             ],
             [
              0.6666666666666666,
              "#ed7953"
             ],
             [
              0.7777777777777778,
              "#fb9f3a"
             ],
             [
              0.8888888888888888,
              "#fdca26"
             ],
             [
              1,
              "#f0f921"
             ]
            ],
            "type": "heatmap"
           }
          ],
          "heatmapgl": [
           {
            "colorbar": {
             "outlinewidth": 0,
             "ticks": ""
            },
            "colorscale": [
             [
              0,
              "#0d0887"
             ],
             [
              0.1111111111111111,
              "#46039f"
             ],
             [
              0.2222222222222222,
              "#7201a8"
             ],
             [
              0.3333333333333333,
              "#9c179e"
             ],
             [
              0.4444444444444444,
              "#bd3786"
             ],
             [
              0.5555555555555556,
              "#d8576b"
             ],
             [
              0.6666666666666666,
              "#ed7953"
             ],
             [
              0.7777777777777778,
              "#fb9f3a"
             ],
             [
              0.8888888888888888,
              "#fdca26"
             ],
             [
              1,
              "#f0f921"
             ]
            ],
            "type": "heatmapgl"
           }
          ],
          "histogram": [
           {
            "marker": {
             "pattern": {
              "fillmode": "overlay",
              "size": 10,
              "solidity": 0.2
             }
            },
            "type": "histogram"
           }
          ],
          "histogram2d": [
           {
            "colorbar": {
             "outlinewidth": 0,
             "ticks": ""
            },
            "colorscale": [
             [
              0,
              "#0d0887"
             ],
             [
              0.1111111111111111,
              "#46039f"
             ],
             [
              0.2222222222222222,
              "#7201a8"
             ],
             [
              0.3333333333333333,
              "#9c179e"
             ],
             [
              0.4444444444444444,
              "#bd3786"
             ],
             [
              0.5555555555555556,
              "#d8576b"
             ],
             [
              0.6666666666666666,
              "#ed7953"
             ],
             [
              0.7777777777777778,
              "#fb9f3a"
             ],
             [
              0.8888888888888888,
              "#fdca26"
             ],
             [
              1,
              "#f0f921"
             ]
            ],
            "type": "histogram2d"
           }
          ],
          "histogram2dcontour": [
           {
            "colorbar": {
             "outlinewidth": 0,
             "ticks": ""
            },
            "colorscale": [
             [
              0,
              "#0d0887"
             ],
             [
              0.1111111111111111,
              "#46039f"
             ],
             [
              0.2222222222222222,
              "#7201a8"
             ],
             [
              0.3333333333333333,
              "#9c179e"
             ],
             [
              0.4444444444444444,
              "#bd3786"
             ],
             [
              0.5555555555555556,
              "#d8576b"
             ],
             [
              0.6666666666666666,
              "#ed7953"
             ],
             [
              0.7777777777777778,
              "#fb9f3a"
             ],
             [
              0.8888888888888888,
              "#fdca26"
             ],
             [
              1,
              "#f0f921"
             ]
            ],
            "type": "histogram2dcontour"
           }
          ],
          "mesh3d": [
           {
            "colorbar": {
             "outlinewidth": 0,
             "ticks": ""
            },
            "type": "mesh3d"
           }
          ],
          "parcoords": [
           {
            "line": {
             "colorbar": {
              "outlinewidth": 0,
              "ticks": ""
             }
            },
            "type": "parcoords"
           }
          ],
          "pie": [
           {
            "automargin": true,
            "type": "pie"
           }
          ],
          "scatter": [
           {
            "fillpattern": {
             "fillmode": "overlay",
             "size": 10,
             "solidity": 0.2
            },
            "type": "scatter"
           }
          ],
          "scatter3d": [
           {
            "line": {
             "colorbar": {
              "outlinewidth": 0,
              "ticks": ""
             }
            },
            "marker": {
             "colorbar": {
              "outlinewidth": 0,
              "ticks": ""
             }
            },
            "type": "scatter3d"
           }
          ],
          "scattercarpet": [
           {
            "marker": {
             "colorbar": {
              "outlinewidth": 0,
              "ticks": ""
             }
            },
            "type": "scattercarpet"
           }
          ],
          "scattergeo": [
           {
            "marker": {
             "colorbar": {
              "outlinewidth": 0,
              "ticks": ""
             }
            },
            "type": "scattergeo"
           }
          ],
          "scattergl": [
           {
            "marker": {
             "colorbar": {
              "outlinewidth": 0,
              "ticks": ""
             }
            },
            "type": "scattergl"
           }
          ],
          "scattermapbox": [
           {
            "marker": {
             "colorbar": {
              "outlinewidth": 0,
              "ticks": ""
             }
            },
            "type": "scattermapbox"
           }
          ],
          "scatterpolar": [
           {
            "marker": {
             "colorbar": {
              "outlinewidth": 0,
              "ticks": ""
             }
            },
            "type": "scatterpolar"
           }
          ],
          "scatterpolargl": [
           {
            "marker": {
             "colorbar": {
              "outlinewidth": 0,
              "ticks": ""
             }
            },
            "type": "scatterpolargl"
           }
          ],
          "scatterternary": [
           {
            "marker": {
             "colorbar": {
              "outlinewidth": 0,
              "ticks": ""
             }
            },
            "type": "scatterternary"
           }
          ],
          "surface": [
           {
            "colorbar": {
             "outlinewidth": 0,
             "ticks": ""
            },
            "colorscale": [
             [
              0,
              "#0d0887"
             ],
             [
              0.1111111111111111,
              "#46039f"
             ],
             [
              0.2222222222222222,
              "#7201a8"
             ],
             [
              0.3333333333333333,
              "#9c179e"
             ],
             [
              0.4444444444444444,
              "#bd3786"
             ],
             [
              0.5555555555555556,
              "#d8576b"
             ],
             [
              0.6666666666666666,
              "#ed7953"
             ],
             [
              0.7777777777777778,
              "#fb9f3a"
             ],
             [
              0.8888888888888888,
              "#fdca26"
             ],
             [
              1,
              "#f0f921"
             ]
            ],
            "type": "surface"
           }
          ],
          "table": [
           {
            "cells": {
             "fill": {
              "color": "#EBF0F8"
             },
             "line": {
              "color": "white"
             }
            },
            "header": {
             "fill": {
              "color": "#C8D4E3"
             },
             "line": {
              "color": "white"
             }
            },
            "type": "table"
           }
          ]
         },
         "layout": {
          "annotationdefaults": {
           "arrowcolor": "#2a3f5f",
           "arrowhead": 0,
           "arrowwidth": 1
          },
          "autotypenumbers": "strict",
          "coloraxis": {
           "colorbar": {
            "outlinewidth": 0,
            "ticks": ""
           }
          },
          "colorscale": {
           "diverging": [
            [
             0,
             "#8e0152"
            ],
            [
             0.1,
             "#c51b7d"
            ],
            [
             0.2,
             "#de77ae"
            ],
            [
             0.3,
             "#f1b6da"
            ],
            [
             0.4,
             "#fde0ef"
            ],
            [
             0.5,
             "#f7f7f7"
            ],
            [
             0.6,
             "#e6f5d0"
            ],
            [
             0.7,
             "#b8e186"
            ],
            [
             0.8,
             "#7fbc41"
            ],
            [
             0.9,
             "#4d9221"
            ],
            [
             1,
             "#276419"
            ]
           ],
           "sequential": [
            [
             0,
             "#0d0887"
            ],
            [
             0.1111111111111111,
             "#46039f"
            ],
            [
             0.2222222222222222,
             "#7201a8"
            ],
            [
             0.3333333333333333,
             "#9c179e"
            ],
            [
             0.4444444444444444,
             "#bd3786"
            ],
            [
             0.5555555555555556,
             "#d8576b"
            ],
            [
             0.6666666666666666,
             "#ed7953"
            ],
            [
             0.7777777777777778,
             "#fb9f3a"
            ],
            [
             0.8888888888888888,
             "#fdca26"
            ],
            [
             1,
             "#f0f921"
            ]
           ],
           "sequentialminus": [
            [
             0,
             "#0d0887"
            ],
            [
             0.1111111111111111,
             "#46039f"
            ],
            [
             0.2222222222222222,
             "#7201a8"
            ],
            [
             0.3333333333333333,
             "#9c179e"
            ],
            [
             0.4444444444444444,
             "#bd3786"
            ],
            [
             0.5555555555555556,
             "#d8576b"
            ],
            [
             0.6666666666666666,
             "#ed7953"
            ],
            [
             0.7777777777777778,
             "#fb9f3a"
            ],
            [
             0.8888888888888888,
             "#fdca26"
            ],
            [
             1,
             "#f0f921"
            ]
           ]
          },
          "colorway": [
           "#636efa",
           "#EF553B",
           "#00cc96",
           "#ab63fa",
           "#FFA15A",
           "#19d3f3",
           "#FF6692",
           "#B6E880",
           "#FF97FF",
           "#FECB52"
          ],
          "font": {
           "color": "#2a3f5f"
          },
          "geo": {
           "bgcolor": "white",
           "lakecolor": "white",
           "landcolor": "white",
           "showlakes": true,
           "showland": true,
           "subunitcolor": "#C8D4E3"
          },
          "hoverlabel": {
           "align": "left"
          },
          "hovermode": "closest",
          "mapbox": {
           "style": "light"
          },
          "paper_bgcolor": "white",
          "plot_bgcolor": "white",
          "polar": {
           "angularaxis": {
            "gridcolor": "#EBF0F8",
            "linecolor": "#EBF0F8",
            "ticks": ""
           },
           "bgcolor": "white",
           "radialaxis": {
            "gridcolor": "#EBF0F8",
            "linecolor": "#EBF0F8",
            "ticks": ""
           }
          },
          "scene": {
           "xaxis": {
            "backgroundcolor": "white",
            "gridcolor": "#DFE8F3",
            "gridwidth": 2,
            "linecolor": "#EBF0F8",
            "showbackground": true,
            "ticks": "",
            "zerolinecolor": "#EBF0F8"
           },
           "yaxis": {
            "backgroundcolor": "white",
            "gridcolor": "#DFE8F3",
            "gridwidth": 2,
            "linecolor": "#EBF0F8",
            "showbackground": true,
            "ticks": "",
            "zerolinecolor": "#EBF0F8"
           },
           "zaxis": {
            "backgroundcolor": "white",
            "gridcolor": "#DFE8F3",
            "gridwidth": 2,
            "linecolor": "#EBF0F8",
            "showbackground": true,
            "ticks": "",
            "zerolinecolor": "#EBF0F8"
           }
          },
          "shapedefaults": {
           "line": {
            "color": "#2a3f5f"
           }
          },
          "ternary": {
           "aaxis": {
            "gridcolor": "#DFE8F3",
            "linecolor": "#A2B1C6",
            "ticks": ""
           },
           "baxis": {
            "gridcolor": "#DFE8F3",
            "linecolor": "#A2B1C6",
            "ticks": ""
           },
           "bgcolor": "white",
           "caxis": {
            "gridcolor": "#DFE8F3",
            "linecolor": "#A2B1C6",
            "ticks": ""
           }
          },
          "title": {
           "x": 0.05
          },
          "xaxis": {
           "automargin": true,
           "gridcolor": "#EBF0F8",
           "linecolor": "#EBF0F8",
           "ticks": "",
           "title": {
            "standoff": 15
           },
           "zerolinecolor": "#EBF0F8",
           "zerolinewidth": 2
          },
          "yaxis": {
           "automargin": true,
           "gridcolor": "#EBF0F8",
           "linecolor": "#EBF0F8",
           "ticks": "",
           "title": {
            "standoff": 15
           },
           "zerolinecolor": "#EBF0F8",
           "zerolinewidth": 2
          }
         }
        },
        "title": {
         "text": "CNN training loss"
        },
        "xaxis": {
         "title": {
          "text": "Epochs"
         }
        },
        "yaxis": {
         "title": {
          "text": "CategoricalCrossentropy"
         }
        }
       }
      },
      "text/html": [
       "<div>                        <script type=\"text/javascript\">window.PlotlyConfig = {MathJaxConfig: 'local'};</script>\n",
       "        <script charset=\"utf-8\" src=\"https://cdn.plot.ly/plotly-2.32.0.min.js\"></script>                <div id=\"1b233168-a463-40cc-8589-f5d8a458bc6e\" class=\"plotly-graph-div\" style=\"height:100%; width:100%;\"></div>            <script type=\"text/javascript\">                                    window.PLOTLYENV=window.PLOTLYENV || {};                                    if (document.getElementById(\"1b233168-a463-40cc-8589-f5d8a458bc6e\")) {                    Plotly.newPlot(                        \"1b233168-a463-40cc-8589-f5d8a458bc6e\",                        [{\"line\":{\"color\":\"blue\"},\"marker\":{\"size\":3},\"mode\":\"lines\",\"name\":\"training loss\",\"x\":[0,1,2,3,4,5,6,7,8,9,10,11,12,13,14,15,16,17,18,19],\"y\":[1.3545520305633545,0.5222012996673584,0.3125830888748169,0.24764227867126465,0.2042759358882904,0.1623004972934723,0.1723509430885315,0.11807873845100403,0.10612780600786209,0.1175619438290596,0.09901601821184158,0.08856022357940674,0.09165941923856735,0.11553322523832321,0.06665574014186859,0.08156415820121765,0.07493849843740463,0.05767710506916046,0.07682734727859497,0.07212647050619125],\"type\":\"scatter\"},{\"line\":{\"color\":\"grey\"},\"mode\":\"lines\",\"name\":\"Validation loss\",\"x\":[0,1,2,3,4,5,6,7,8,9,10,11,12,13,14,15,16,17,18,19],\"y\":[0.39889347553253174,0.14403995871543884,0.10107404738664627,0.039489634335041046,0.06142793223261833,0.042385533452034,0.04828087240457535,0.03793125972151756,0.02292218618094921,0.013486235402524471,0.019224215298891068,0.01827661506831646,0.004848589189350605,0.02128925547003746,0.008802641183137894,0.01925022341310978,0.040382008999586105,0.012575783766806126,0.023486247286200523,0.0021037207916378975],\"type\":\"scatter\"}],                        {\"template\":{\"data\":{\"barpolar\":[{\"marker\":{\"line\":{\"color\":\"white\",\"width\":0.5},\"pattern\":{\"fillmode\":\"overlay\",\"size\":10,\"solidity\":0.2}},\"type\":\"barpolar\"}],\"bar\":[{\"error_x\":{\"color\":\"#2a3f5f\"},\"error_y\":{\"color\":\"#2a3f5f\"},\"marker\":{\"line\":{\"color\":\"white\",\"width\":0.5},\"pattern\":{\"fillmode\":\"overlay\",\"size\":10,\"solidity\":0.2}},\"type\":\"bar\"}],\"carpet\":[{\"aaxis\":{\"endlinecolor\":\"#2a3f5f\",\"gridcolor\":\"#C8D4E3\",\"linecolor\":\"#C8D4E3\",\"minorgridcolor\":\"#C8D4E3\",\"startlinecolor\":\"#2a3f5f\"},\"baxis\":{\"endlinecolor\":\"#2a3f5f\",\"gridcolor\":\"#C8D4E3\",\"linecolor\":\"#C8D4E3\",\"minorgridcolor\":\"#C8D4E3\",\"startlinecolor\":\"#2a3f5f\"},\"type\":\"carpet\"}],\"choropleth\":[{\"colorbar\":{\"outlinewidth\":0,\"ticks\":\"\"},\"type\":\"choropleth\"}],\"contourcarpet\":[{\"colorbar\":{\"outlinewidth\":0,\"ticks\":\"\"},\"type\":\"contourcarpet\"}],\"contour\":[{\"colorbar\":{\"outlinewidth\":0,\"ticks\":\"\"},\"colorscale\":[[0.0,\"#0d0887\"],[0.1111111111111111,\"#46039f\"],[0.2222222222222222,\"#7201a8\"],[0.3333333333333333,\"#9c179e\"],[0.4444444444444444,\"#bd3786\"],[0.5555555555555556,\"#d8576b\"],[0.6666666666666666,\"#ed7953\"],[0.7777777777777778,\"#fb9f3a\"],[0.8888888888888888,\"#fdca26\"],[1.0,\"#f0f921\"]],\"type\":\"contour\"}],\"heatmapgl\":[{\"colorbar\":{\"outlinewidth\":0,\"ticks\":\"\"},\"colorscale\":[[0.0,\"#0d0887\"],[0.1111111111111111,\"#46039f\"],[0.2222222222222222,\"#7201a8\"],[0.3333333333333333,\"#9c179e\"],[0.4444444444444444,\"#bd3786\"],[0.5555555555555556,\"#d8576b\"],[0.6666666666666666,\"#ed7953\"],[0.7777777777777778,\"#fb9f3a\"],[0.8888888888888888,\"#fdca26\"],[1.0,\"#f0f921\"]],\"type\":\"heatmapgl\"}],\"heatmap\":[{\"colorbar\":{\"outlinewidth\":0,\"ticks\":\"\"},\"colorscale\":[[0.0,\"#0d0887\"],[0.1111111111111111,\"#46039f\"],[0.2222222222222222,\"#7201a8\"],[0.3333333333333333,\"#9c179e\"],[0.4444444444444444,\"#bd3786\"],[0.5555555555555556,\"#d8576b\"],[0.6666666666666666,\"#ed7953\"],[0.7777777777777778,\"#fb9f3a\"],[0.8888888888888888,\"#fdca26\"],[1.0,\"#f0f921\"]],\"type\":\"heatmap\"}],\"histogram2dcontour\":[{\"colorbar\":{\"outlinewidth\":0,\"ticks\":\"\"},\"colorscale\":[[0.0,\"#0d0887\"],[0.1111111111111111,\"#46039f\"],[0.2222222222222222,\"#7201a8\"],[0.3333333333333333,\"#9c179e\"],[0.4444444444444444,\"#bd3786\"],[0.5555555555555556,\"#d8576b\"],[0.6666666666666666,\"#ed7953\"],[0.7777777777777778,\"#fb9f3a\"],[0.8888888888888888,\"#fdca26\"],[1.0,\"#f0f921\"]],\"type\":\"histogram2dcontour\"}],\"histogram2d\":[{\"colorbar\":{\"outlinewidth\":0,\"ticks\":\"\"},\"colorscale\":[[0.0,\"#0d0887\"],[0.1111111111111111,\"#46039f\"],[0.2222222222222222,\"#7201a8\"],[0.3333333333333333,\"#9c179e\"],[0.4444444444444444,\"#bd3786\"],[0.5555555555555556,\"#d8576b\"],[0.6666666666666666,\"#ed7953\"],[0.7777777777777778,\"#fb9f3a\"],[0.8888888888888888,\"#fdca26\"],[1.0,\"#f0f921\"]],\"type\":\"histogram2d\"}],\"histogram\":[{\"marker\":{\"pattern\":{\"fillmode\":\"overlay\",\"size\":10,\"solidity\":0.2}},\"type\":\"histogram\"}],\"mesh3d\":[{\"colorbar\":{\"outlinewidth\":0,\"ticks\":\"\"},\"type\":\"mesh3d\"}],\"parcoords\":[{\"line\":{\"colorbar\":{\"outlinewidth\":0,\"ticks\":\"\"}},\"type\":\"parcoords\"}],\"pie\":[{\"automargin\":true,\"type\":\"pie\"}],\"scatter3d\":[{\"line\":{\"colorbar\":{\"outlinewidth\":0,\"ticks\":\"\"}},\"marker\":{\"colorbar\":{\"outlinewidth\":0,\"ticks\":\"\"}},\"type\":\"scatter3d\"}],\"scattercarpet\":[{\"marker\":{\"colorbar\":{\"outlinewidth\":0,\"ticks\":\"\"}},\"type\":\"scattercarpet\"}],\"scattergeo\":[{\"marker\":{\"colorbar\":{\"outlinewidth\":0,\"ticks\":\"\"}},\"type\":\"scattergeo\"}],\"scattergl\":[{\"marker\":{\"colorbar\":{\"outlinewidth\":0,\"ticks\":\"\"}},\"type\":\"scattergl\"}],\"scattermapbox\":[{\"marker\":{\"colorbar\":{\"outlinewidth\":0,\"ticks\":\"\"}},\"type\":\"scattermapbox\"}],\"scatterpolargl\":[{\"marker\":{\"colorbar\":{\"outlinewidth\":0,\"ticks\":\"\"}},\"type\":\"scatterpolargl\"}],\"scatterpolar\":[{\"marker\":{\"colorbar\":{\"outlinewidth\":0,\"ticks\":\"\"}},\"type\":\"scatterpolar\"}],\"scatter\":[{\"fillpattern\":{\"fillmode\":\"overlay\",\"size\":10,\"solidity\":0.2},\"type\":\"scatter\"}],\"scatterternary\":[{\"marker\":{\"colorbar\":{\"outlinewidth\":0,\"ticks\":\"\"}},\"type\":\"scatterternary\"}],\"surface\":[{\"colorbar\":{\"outlinewidth\":0,\"ticks\":\"\"},\"colorscale\":[[0.0,\"#0d0887\"],[0.1111111111111111,\"#46039f\"],[0.2222222222222222,\"#7201a8\"],[0.3333333333333333,\"#9c179e\"],[0.4444444444444444,\"#bd3786\"],[0.5555555555555556,\"#d8576b\"],[0.6666666666666666,\"#ed7953\"],[0.7777777777777778,\"#fb9f3a\"],[0.8888888888888888,\"#fdca26\"],[1.0,\"#f0f921\"]],\"type\":\"surface\"}],\"table\":[{\"cells\":{\"fill\":{\"color\":\"#EBF0F8\"},\"line\":{\"color\":\"white\"}},\"header\":{\"fill\":{\"color\":\"#C8D4E3\"},\"line\":{\"color\":\"white\"}},\"type\":\"table\"}]},\"layout\":{\"annotationdefaults\":{\"arrowcolor\":\"#2a3f5f\",\"arrowhead\":0,\"arrowwidth\":1},\"autotypenumbers\":\"strict\",\"coloraxis\":{\"colorbar\":{\"outlinewidth\":0,\"ticks\":\"\"}},\"colorscale\":{\"diverging\":[[0,\"#8e0152\"],[0.1,\"#c51b7d\"],[0.2,\"#de77ae\"],[0.3,\"#f1b6da\"],[0.4,\"#fde0ef\"],[0.5,\"#f7f7f7\"],[0.6,\"#e6f5d0\"],[0.7,\"#b8e186\"],[0.8,\"#7fbc41\"],[0.9,\"#4d9221\"],[1,\"#276419\"]],\"sequential\":[[0.0,\"#0d0887\"],[0.1111111111111111,\"#46039f\"],[0.2222222222222222,\"#7201a8\"],[0.3333333333333333,\"#9c179e\"],[0.4444444444444444,\"#bd3786\"],[0.5555555555555556,\"#d8576b\"],[0.6666666666666666,\"#ed7953\"],[0.7777777777777778,\"#fb9f3a\"],[0.8888888888888888,\"#fdca26\"],[1.0,\"#f0f921\"]],\"sequentialminus\":[[0.0,\"#0d0887\"],[0.1111111111111111,\"#46039f\"],[0.2222222222222222,\"#7201a8\"],[0.3333333333333333,\"#9c179e\"],[0.4444444444444444,\"#bd3786\"],[0.5555555555555556,\"#d8576b\"],[0.6666666666666666,\"#ed7953\"],[0.7777777777777778,\"#fb9f3a\"],[0.8888888888888888,\"#fdca26\"],[1.0,\"#f0f921\"]]},\"colorway\":[\"#636efa\",\"#EF553B\",\"#00cc96\",\"#ab63fa\",\"#FFA15A\",\"#19d3f3\",\"#FF6692\",\"#B6E880\",\"#FF97FF\",\"#FECB52\"],\"font\":{\"color\":\"#2a3f5f\"},\"geo\":{\"bgcolor\":\"white\",\"lakecolor\":\"white\",\"landcolor\":\"white\",\"showlakes\":true,\"showland\":true,\"subunitcolor\":\"#C8D4E3\"},\"hoverlabel\":{\"align\":\"left\"},\"hovermode\":\"closest\",\"mapbox\":{\"style\":\"light\"},\"paper_bgcolor\":\"white\",\"plot_bgcolor\":\"white\",\"polar\":{\"angularaxis\":{\"gridcolor\":\"#EBF0F8\",\"linecolor\":\"#EBF0F8\",\"ticks\":\"\"},\"bgcolor\":\"white\",\"radialaxis\":{\"gridcolor\":\"#EBF0F8\",\"linecolor\":\"#EBF0F8\",\"ticks\":\"\"}},\"scene\":{\"xaxis\":{\"backgroundcolor\":\"white\",\"gridcolor\":\"#DFE8F3\",\"gridwidth\":2,\"linecolor\":\"#EBF0F8\",\"showbackground\":true,\"ticks\":\"\",\"zerolinecolor\":\"#EBF0F8\"},\"yaxis\":{\"backgroundcolor\":\"white\",\"gridcolor\":\"#DFE8F3\",\"gridwidth\":2,\"linecolor\":\"#EBF0F8\",\"showbackground\":true,\"ticks\":\"\",\"zerolinecolor\":\"#EBF0F8\"},\"zaxis\":{\"backgroundcolor\":\"white\",\"gridcolor\":\"#DFE8F3\",\"gridwidth\":2,\"linecolor\":\"#EBF0F8\",\"showbackground\":true,\"ticks\":\"\",\"zerolinecolor\":\"#EBF0F8\"}},\"shapedefaults\":{\"line\":{\"color\":\"#2a3f5f\"}},\"ternary\":{\"aaxis\":{\"gridcolor\":\"#DFE8F3\",\"linecolor\":\"#A2B1C6\",\"ticks\":\"\"},\"baxis\":{\"gridcolor\":\"#DFE8F3\",\"linecolor\":\"#A2B1C6\",\"ticks\":\"\"},\"bgcolor\":\"white\",\"caxis\":{\"gridcolor\":\"#DFE8F3\",\"linecolor\":\"#A2B1C6\",\"ticks\":\"\"}},\"title\":{\"x\":0.05},\"xaxis\":{\"automargin\":true,\"gridcolor\":\"#EBF0F8\",\"linecolor\":\"#EBF0F8\",\"ticks\":\"\",\"title\":{\"standoff\":15},\"zerolinecolor\":\"#EBF0F8\",\"zerolinewidth\":2},\"yaxis\":{\"automargin\":true,\"gridcolor\":\"#EBF0F8\",\"linecolor\":\"#EBF0F8\",\"ticks\":\"\",\"title\":{\"standoff\":15},\"zerolinecolor\":\"#EBF0F8\",\"zerolinewidth\":2}}},\"title\":{\"text\":\"CNN training loss\"},\"xaxis\":{\"title\":{\"text\":\"Epochs\"}},\"yaxis\":{\"title\":{\"text\":\"CategoricalCrossentropy\"}},\"plot_bgcolor\":\"#f2f8fd\",\"paper_bgcolor\":\"white\"},                        {\"responsive\": true}                    )                };                            </script>        </div>"
      ],
      "text/plain": [
       "Figure({\n",
       "    'data': [{'line': {'color': 'blue'},\n",
       "              'marker': {'size': 3},\n",
       "              'mode': 'lines',\n",
       "              'name': 'training loss',\n",
       "              'type': 'scatter',\n",
       "              'x': array([ 0,  1,  2,  3,  4,  5,  6,  7,  8,  9, 10, 11, 12, 13, 14, 15, 16, 17,\n",
       "                          18, 19]),\n",
       "              'y': [1.3545520305633545, 0.5222012996673584, 0.3125830888748169,\n",
       "                    0.24764227867126465, 0.2042759358882904, 0.1623004972934723,\n",
       "                    0.1723509430885315, 0.11807873845100403, 0.10612780600786209,\n",
       "                    0.1175619438290596, 0.09901601821184158, 0.08856022357940674,\n",
       "                    0.09165941923856735, 0.11553322523832321, 0.06665574014186859,\n",
       "                    0.08156415820121765, 0.07493849843740463, 0.05767710506916046,\n",
       "                    0.07682734727859497, 0.07212647050619125]},\n",
       "             {'line': {'color': 'grey'},\n",
       "              'mode': 'lines',\n",
       "              'name': 'Validation loss',\n",
       "              'type': 'scatter',\n",
       "              'x': array([ 0,  1,  2,  3,  4,  5,  6,  7,  8,  9, 10, 11, 12, 13, 14, 15, 16, 17,\n",
       "                          18, 19]),\n",
       "              'y': [0.39889347553253174, 0.14403995871543884, 0.10107404738664627,\n",
       "                    0.039489634335041046, 0.06142793223261833, 0.042385533452034,\n",
       "                    0.04828087240457535, 0.03793125972151756, 0.02292218618094921,\n",
       "                    0.013486235402524471, 0.019224215298891068,\n",
       "                    0.01827661506831646, 0.004848589189350605, 0.02128925547003746,\n",
       "                    0.008802641183137894, 0.01925022341310978,\n",
       "                    0.040382008999586105, 0.012575783766806126,\n",
       "                    0.023486247286200523, 0.0021037207916378975]}],\n",
       "    'layout': {'paper_bgcolor': 'white',\n",
       "               'plot_bgcolor': '#f2f8fd',\n",
       "               'template': '...',\n",
       "               'title': {'text': 'CNN training loss'},\n",
       "               'xaxis': {'title': {'text': 'Epochs'}},\n",
       "               'yaxis': {'title': {'text': 'CategoricalCrossentropy'}}}\n",
       "})"
      ]
     },
     "execution_count": 39,
     "metadata": {},
     "output_type": "execute_result"
    }
   ],
   "source": [
    "#visualize training loss & validation loss which indecates there is no overfitting\n",
    "fig = go.Figure()\n",
    "epochs = 20\n",
    "fig.add_trace(go.Scatter(x=np.arange(0,epochs,1),\n",
    "y=history.history['loss'],\n",
    "mode='lines',\n",
    "name=f'training loss',\n",
    "marker_size=3,\n",
    "line_color='blue'))\n",
    "fig.add_trace(go.Scatter(x=np.arange(0, epochs, 1),\n",
    "                         y=history.history['val_loss'],\n",
    "                         mode='lines',\n",
    "                         name=f'Validation loss',\n",
    "                         line_color='grey'))\n",
    "fig.update_layout(\n",
    "                  title=\"CNN training loss\",\n",
    "                  xaxis_title=\"Epochs\",\n",
    "                  yaxis_title=f\"CategoricalCrossentropy\")\n",
    "                  \n",
    "fig.update_layout({'plot_bgcolor': '#f2f8fd' , \n",
    "                   'paper_bgcolor': 'white',}, \n",
    "                   template='plotly_white')"
   ]
  },
  {
   "cell_type": "code",
   "execution_count": 44,
   "id": "0cce06c0",
   "metadata": {},
   "outputs": [
    {
     "ename": "NameError",
     "evalue": "name 'clear_output' is not defined",
     "output_type": "error",
     "traceback": [
      "\u001b[1;31m---------------------------------------------------------------------------\u001b[0m",
      "\u001b[1;31mNameError\u001b[0m                                 Traceback (most recent call last)",
      "Cell \u001b[1;32mIn[44], line 1\u001b[0m\n\u001b[1;32m----> 1\u001b[0m \u001b[43mclear_output\u001b[49m\n",
      "\u001b[1;31mNameError\u001b[0m: name 'clear_output' is not defined"
     ]
    }
   ],
   "source": [
    "clear_output"
   ]
  },
  {
   "cell_type": "markdown",
   "id": "e358dd16",
   "metadata": {
    "papermill": {
     "duration": 1.886228,
     "end_time": "2024-04-26T02:52:03.137733",
     "exception": false,
     "start_time": "2024-04-26T02:52:01.251505",
     "status": "completed"
    },
    "tags": []
   },
   "source": [
    "<a id=\"Visualize training&validation accuracy:\"></a>\n",
    "# Visualize training&validation accuracy"
   ]
  },
  {
   "cell_type": "code",
   "execution_count": 40,
   "id": "94378c93",
   "metadata": {
    "execution": {
     "iopub.execute_input": "2024-04-26T02:52:06.933956Z",
     "iopub.status.busy": "2024-04-26T02:52:06.932485Z",
     "iopub.status.idle": "2024-04-26T02:52:06.984737Z",
     "shell.execute_reply": "2024-04-26T02:52:06.983668Z"
    },
    "papermill": {
     "duration": 1.929948,
     "end_time": "2024-04-26T02:52:06.987674",
     "exception": false,
     "start_time": "2024-04-26T02:52:05.057726",
     "status": "completed"
    },
    "tags": []
   },
   "outputs": [
    {
     "ename": "ValueError",
     "evalue": "Mime type rendering requires nbformat>=4.2.0 but it is not installed",
     "output_type": "error",
     "traceback": [
      "\u001b[1;31m---------------------------------------------------------------------------\u001b[0m",
      "\u001b[1;31mValueError\u001b[0m                                Traceback (most recent call last)",
      "File \u001b[1;32mc:\\Users\\Subhodh Bijjur\\anaconda3\\envs\\tfgpu\\lib\\site-packages\\IPython\\core\\formatters.py:925\u001b[0m, in \u001b[0;36mIPythonDisplayFormatter.__call__\u001b[1;34m(self, obj)\u001b[0m\n\u001b[0;32m    923\u001b[0m method \u001b[38;5;241m=\u001b[39m get_real_method(obj, \u001b[38;5;28mself\u001b[39m\u001b[38;5;241m.\u001b[39mprint_method)\n\u001b[0;32m    924\u001b[0m \u001b[38;5;28;01mif\u001b[39;00m method \u001b[38;5;129;01mis\u001b[39;00m \u001b[38;5;129;01mnot\u001b[39;00m \u001b[38;5;28;01mNone\u001b[39;00m:\n\u001b[1;32m--> 925\u001b[0m     \u001b[43mmethod\u001b[49m\u001b[43m(\u001b[49m\u001b[43m)\u001b[49m\n\u001b[0;32m    926\u001b[0m     \u001b[38;5;28;01mreturn\u001b[39;00m \u001b[38;5;28;01mTrue\u001b[39;00m\n",
      "File \u001b[1;32mc:\\Users\\Subhodh Bijjur\\anaconda3\\envs\\tfgpu\\lib\\site-packages\\plotly\\basedatatypes.py:832\u001b[0m, in \u001b[0;36mBaseFigure._ipython_display_\u001b[1;34m(self)\u001b[0m\n\u001b[0;32m    829\u001b[0m \u001b[38;5;28;01mimport\u001b[39;00m \u001b[38;5;21;01mplotly\u001b[39;00m\u001b[38;5;21;01m.\u001b[39;00m\u001b[38;5;21;01mio\u001b[39;00m \u001b[38;5;28;01mas\u001b[39;00m \u001b[38;5;21;01mpio\u001b[39;00m\n\u001b[0;32m    831\u001b[0m \u001b[38;5;28;01mif\u001b[39;00m pio\u001b[38;5;241m.\u001b[39mrenderers\u001b[38;5;241m.\u001b[39mrender_on_display \u001b[38;5;129;01mand\u001b[39;00m pio\u001b[38;5;241m.\u001b[39mrenderers\u001b[38;5;241m.\u001b[39mdefault:\n\u001b[1;32m--> 832\u001b[0m     \u001b[43mpio\u001b[49m\u001b[38;5;241;43m.\u001b[39;49m\u001b[43mshow\u001b[49m\u001b[43m(\u001b[49m\u001b[38;5;28;43mself\u001b[39;49m\u001b[43m)\u001b[49m\n\u001b[0;32m    833\u001b[0m \u001b[38;5;28;01melse\u001b[39;00m:\n\u001b[0;32m    834\u001b[0m     \u001b[38;5;28mprint\u001b[39m(\u001b[38;5;28mrepr\u001b[39m(\u001b[38;5;28mself\u001b[39m))\n",
      "File \u001b[1;32mc:\\Users\\Subhodh Bijjur\\anaconda3\\envs\\tfgpu\\lib\\site-packages\\plotly\\io\\_renderers.py:394\u001b[0m, in \u001b[0;36mshow\u001b[1;34m(fig, renderer, validate, **kwargs)\u001b[0m\n\u001b[0;32m    389\u001b[0m         \u001b[38;5;28;01mraise\u001b[39;00m \u001b[38;5;167;01mValueError\u001b[39;00m(\n\u001b[0;32m    390\u001b[0m             \u001b[38;5;124m\"\u001b[39m\u001b[38;5;124mMime type rendering requires ipython but it is not installed\u001b[39m\u001b[38;5;124m\"\u001b[39m\n\u001b[0;32m    391\u001b[0m         )\n\u001b[0;32m    393\u001b[0m     \u001b[38;5;28;01mif\u001b[39;00m \u001b[38;5;129;01mnot\u001b[39;00m nbformat \u001b[38;5;129;01mor\u001b[39;00m Version(nbformat\u001b[38;5;241m.\u001b[39m__version__) \u001b[38;5;241m<\u001b[39m Version(\u001b[38;5;124m\"\u001b[39m\u001b[38;5;124m4.2.0\u001b[39m\u001b[38;5;124m\"\u001b[39m):\n\u001b[1;32m--> 394\u001b[0m         \u001b[38;5;28;01mraise\u001b[39;00m \u001b[38;5;167;01mValueError\u001b[39;00m(\n\u001b[0;32m    395\u001b[0m             \u001b[38;5;124m\"\u001b[39m\u001b[38;5;124mMime type rendering requires nbformat>=4.2.0 but it is not installed\u001b[39m\u001b[38;5;124m\"\u001b[39m\n\u001b[0;32m    396\u001b[0m         )\n\u001b[0;32m    398\u001b[0m     ipython_display\u001b[38;5;241m.\u001b[39mdisplay(bundle, raw\u001b[38;5;241m=\u001b[39m\u001b[38;5;28;01mTrue\u001b[39;00m)\n\u001b[0;32m    400\u001b[0m \u001b[38;5;66;03m# external renderers\u001b[39;00m\n",
      "\u001b[1;31mValueError\u001b[0m: Mime type rendering requires nbformat>=4.2.0 but it is not installed"
     ]
    },
    {
     "data": {
      "application/vnd.plotly.v1+json": {
       "config": {
        "plotlyServerURL": "https://plot.ly"
       },
       "data": [
        {
         "line": {
          "color": "blue"
         },
         "marker": {
          "size": 3
         },
         "mode": "lines",
         "name": "training accuracy",
         "type": "scatter",
         "x": [
          0,
          1,
          2,
          3,
          4,
          5,
          6,
          7,
          8,
          9,
          10,
          11,
          12,
          13,
          14,
          15,
          16,
          17,
          18,
          19
         ],
         "y": [
          0.5665000081062317,
          0.8320000171661377,
          0.8955000042915344,
          0.9229999780654907,
          0.9449999928474426,
          0.9430000185966492,
          0.9545000195503235,
          0.9635000228881836,
          0.9649999737739563,
          0.965499997138977,
          0.968999981880188,
          0.9725000262260437,
          0.9739999771118164,
          0.9614999890327454,
          0.9810000061988831,
          0.9775000214576721,
          0.9775000214576721,
          0.9779999852180481,
          0.9804999828338623,
          0.9764999747276306
         ]
        },
        {
         "line": {
          "color": "grey"
         },
         "mode": "lines",
         "name": "Validation accuracy",
         "type": "scatter",
         "x": [
          0,
          1,
          2,
          3,
          4,
          5,
          6,
          7,
          8,
          9,
          10,
          11,
          12,
          13,
          14,
          15,
          16,
          17,
          18,
          19
         ],
         "y": [
          0.9125000238418579,
          0.9599999785423279,
          0.96875,
          0.987500011920929,
          0.9837499856948853,
          0.9887499809265137,
          0.9887499809265137,
          0.9900000095367432,
          0.9925000071525574,
          0.9962499737739563,
          0.9950000047683716,
          0.9950000047683716,
          0.9975000023841858,
          0.9937499761581421,
          0.9950000047683716,
          0.9925000071525574,
          0.9887499809265137,
          0.9962499737739563,
          0.9937499761581421,
          1
         ]
        }
       ],
       "layout": {
        "paper_bgcolor": "white",
        "plot_bgcolor": "#f2f8fd",
        "template": {
         "data": {
          "bar": [
           {
            "error_x": {
             "color": "#2a3f5f"
            },
            "error_y": {
             "color": "#2a3f5f"
            },
            "marker": {
             "line": {
              "color": "white",
              "width": 0.5
             },
             "pattern": {
              "fillmode": "overlay",
              "size": 10,
              "solidity": 0.2
             }
            },
            "type": "bar"
           }
          ],
          "barpolar": [
           {
            "marker": {
             "line": {
              "color": "white",
              "width": 0.5
             },
             "pattern": {
              "fillmode": "overlay",
              "size": 10,
              "solidity": 0.2
             }
            },
            "type": "barpolar"
           }
          ],
          "carpet": [
           {
            "aaxis": {
             "endlinecolor": "#2a3f5f",
             "gridcolor": "#C8D4E3",
             "linecolor": "#C8D4E3",
             "minorgridcolor": "#C8D4E3",
             "startlinecolor": "#2a3f5f"
            },
            "baxis": {
             "endlinecolor": "#2a3f5f",
             "gridcolor": "#C8D4E3",
             "linecolor": "#C8D4E3",
             "minorgridcolor": "#C8D4E3",
             "startlinecolor": "#2a3f5f"
            },
            "type": "carpet"
           }
          ],
          "choropleth": [
           {
            "colorbar": {
             "outlinewidth": 0,
             "ticks": ""
            },
            "type": "choropleth"
           }
          ],
          "contour": [
           {
            "colorbar": {
             "outlinewidth": 0,
             "ticks": ""
            },
            "colorscale": [
             [
              0,
              "#0d0887"
             ],
             [
              0.1111111111111111,
              "#46039f"
             ],
             [
              0.2222222222222222,
              "#7201a8"
             ],
             [
              0.3333333333333333,
              "#9c179e"
             ],
             [
              0.4444444444444444,
              "#bd3786"
             ],
             [
              0.5555555555555556,
              "#d8576b"
             ],
             [
              0.6666666666666666,
              "#ed7953"
             ],
             [
              0.7777777777777778,
              "#fb9f3a"
             ],
             [
              0.8888888888888888,
              "#fdca26"
             ],
             [
              1,
              "#f0f921"
             ]
            ],
            "type": "contour"
           }
          ],
          "contourcarpet": [
           {
            "colorbar": {
             "outlinewidth": 0,
             "ticks": ""
            },
            "type": "contourcarpet"
           }
          ],
          "heatmap": [
           {
            "colorbar": {
             "outlinewidth": 0,
             "ticks": ""
            },
            "colorscale": [
             [
              0,
              "#0d0887"
             ],
             [
              0.1111111111111111,
              "#46039f"
             ],
             [
              0.2222222222222222,
              "#7201a8"
             ],
             [
              0.3333333333333333,
              "#9c179e"
             ],
             [
              0.4444444444444444,
              "#bd3786"
             ],
             [
              0.5555555555555556,
              "#d8576b"
             ],
             [
              0.6666666666666666,
              "#ed7953"
             ],
             [
              0.7777777777777778,
              "#fb9f3a"
             ],
             [
              0.8888888888888888,
              "#fdca26"
             ],
             [
              1,
              "#f0f921"
             ]
            ],
            "type": "heatmap"
           }
          ],
          "heatmapgl": [
           {
            "colorbar": {
             "outlinewidth": 0,
             "ticks": ""
            },
            "colorscale": [
             [
              0,
              "#0d0887"
             ],
             [
              0.1111111111111111,
              "#46039f"
             ],
             [
              0.2222222222222222,
              "#7201a8"
             ],
             [
              0.3333333333333333,
              "#9c179e"
             ],
             [
              0.4444444444444444,
              "#bd3786"
             ],
             [
              0.5555555555555556,
              "#d8576b"
             ],
             [
              0.6666666666666666,
              "#ed7953"
             ],
             [
              0.7777777777777778,
              "#fb9f3a"
             ],
             [
              0.8888888888888888,
              "#fdca26"
             ],
             [
              1,
              "#f0f921"
             ]
            ],
            "type": "heatmapgl"
           }
          ],
          "histogram": [
           {
            "marker": {
             "pattern": {
              "fillmode": "overlay",
              "size": 10,
              "solidity": 0.2
             }
            },
            "type": "histogram"
           }
          ],
          "histogram2d": [
           {
            "colorbar": {
             "outlinewidth": 0,
             "ticks": ""
            },
            "colorscale": [
             [
              0,
              "#0d0887"
             ],
             [
              0.1111111111111111,
              "#46039f"
             ],
             [
              0.2222222222222222,
              "#7201a8"
             ],
             [
              0.3333333333333333,
              "#9c179e"
             ],
             [
              0.4444444444444444,
              "#bd3786"
             ],
             [
              0.5555555555555556,
              "#d8576b"
             ],
             [
              0.6666666666666666,
              "#ed7953"
             ],
             [
              0.7777777777777778,
              "#fb9f3a"
             ],
             [
              0.8888888888888888,
              "#fdca26"
             ],
             [
              1,
              "#f0f921"
             ]
            ],
            "type": "histogram2d"
           }
          ],
          "histogram2dcontour": [
           {
            "colorbar": {
             "outlinewidth": 0,
             "ticks": ""
            },
            "colorscale": [
             [
              0,
              "#0d0887"
             ],
             [
              0.1111111111111111,
              "#46039f"
             ],
             [
              0.2222222222222222,
              "#7201a8"
             ],
             [
              0.3333333333333333,
              "#9c179e"
             ],
             [
              0.4444444444444444,
              "#bd3786"
             ],
             [
              0.5555555555555556,
              "#d8576b"
             ],
             [
              0.6666666666666666,
              "#ed7953"
             ],
             [
              0.7777777777777778,
              "#fb9f3a"
             ],
             [
              0.8888888888888888,
              "#fdca26"
             ],
             [
              1,
              "#f0f921"
             ]
            ],
            "type": "histogram2dcontour"
           }
          ],
          "mesh3d": [
           {
            "colorbar": {
             "outlinewidth": 0,
             "ticks": ""
            },
            "type": "mesh3d"
           }
          ],
          "parcoords": [
           {
            "line": {
             "colorbar": {
              "outlinewidth": 0,
              "ticks": ""
             }
            },
            "type": "parcoords"
           }
          ],
          "pie": [
           {
            "automargin": true,
            "type": "pie"
           }
          ],
          "scatter": [
           {
            "fillpattern": {
             "fillmode": "overlay",
             "size": 10,
             "solidity": 0.2
            },
            "type": "scatter"
           }
          ],
          "scatter3d": [
           {
            "line": {
             "colorbar": {
              "outlinewidth": 0,
              "ticks": ""
             }
            },
            "marker": {
             "colorbar": {
              "outlinewidth": 0,
              "ticks": ""
             }
            },
            "type": "scatter3d"
           }
          ],
          "scattercarpet": [
           {
            "marker": {
             "colorbar": {
              "outlinewidth": 0,
              "ticks": ""
             }
            },
            "type": "scattercarpet"
           }
          ],
          "scattergeo": [
           {
            "marker": {
             "colorbar": {
              "outlinewidth": 0,
              "ticks": ""
             }
            },
            "type": "scattergeo"
           }
          ],
          "scattergl": [
           {
            "marker": {
             "colorbar": {
              "outlinewidth": 0,
              "ticks": ""
             }
            },
            "type": "scattergl"
           }
          ],
          "scattermapbox": [
           {
            "marker": {
             "colorbar": {
              "outlinewidth": 0,
              "ticks": ""
             }
            },
            "type": "scattermapbox"
           }
          ],
          "scatterpolar": [
           {
            "marker": {
             "colorbar": {
              "outlinewidth": 0,
              "ticks": ""
             }
            },
            "type": "scatterpolar"
           }
          ],
          "scatterpolargl": [
           {
            "marker": {
             "colorbar": {
              "outlinewidth": 0,
              "ticks": ""
             }
            },
            "type": "scatterpolargl"
           }
          ],
          "scatterternary": [
           {
            "marker": {
             "colorbar": {
              "outlinewidth": 0,
              "ticks": ""
             }
            },
            "type": "scatterternary"
           }
          ],
          "surface": [
           {
            "colorbar": {
             "outlinewidth": 0,
             "ticks": ""
            },
            "colorscale": [
             [
              0,
              "#0d0887"
             ],
             [
              0.1111111111111111,
              "#46039f"
             ],
             [
              0.2222222222222222,
              "#7201a8"
             ],
             [
              0.3333333333333333,
              "#9c179e"
             ],
             [
              0.4444444444444444,
              "#bd3786"
             ],
             [
              0.5555555555555556,
              "#d8576b"
             ],
             [
              0.6666666666666666,
              "#ed7953"
             ],
             [
              0.7777777777777778,
              "#fb9f3a"
             ],
             [
              0.8888888888888888,
              "#fdca26"
             ],
             [
              1,
              "#f0f921"
             ]
            ],
            "type": "surface"
           }
          ],
          "table": [
           {
            "cells": {
             "fill": {
              "color": "#EBF0F8"
             },
             "line": {
              "color": "white"
             }
            },
            "header": {
             "fill": {
              "color": "#C8D4E3"
             },
             "line": {
              "color": "white"
             }
            },
            "type": "table"
           }
          ]
         },
         "layout": {
          "annotationdefaults": {
           "arrowcolor": "#2a3f5f",
           "arrowhead": 0,
           "arrowwidth": 1
          },
          "autotypenumbers": "strict",
          "coloraxis": {
           "colorbar": {
            "outlinewidth": 0,
            "ticks": ""
           }
          },
          "colorscale": {
           "diverging": [
            [
             0,
             "#8e0152"
            ],
            [
             0.1,
             "#c51b7d"
            ],
            [
             0.2,
             "#de77ae"
            ],
            [
             0.3,
             "#f1b6da"
            ],
            [
             0.4,
             "#fde0ef"
            ],
            [
             0.5,
             "#f7f7f7"
            ],
            [
             0.6,
             "#e6f5d0"
            ],
            [
             0.7,
             "#b8e186"
            ],
            [
             0.8,
             "#7fbc41"
            ],
            [
             0.9,
             "#4d9221"
            ],
            [
             1,
             "#276419"
            ]
           ],
           "sequential": [
            [
             0,
             "#0d0887"
            ],
            [
             0.1111111111111111,
             "#46039f"
            ],
            [
             0.2222222222222222,
             "#7201a8"
            ],
            [
             0.3333333333333333,
             "#9c179e"
            ],
            [
             0.4444444444444444,
             "#bd3786"
            ],
            [
             0.5555555555555556,
             "#d8576b"
            ],
            [
             0.6666666666666666,
             "#ed7953"
            ],
            [
             0.7777777777777778,
             "#fb9f3a"
            ],
            [
             0.8888888888888888,
             "#fdca26"
            ],
            [
             1,
             "#f0f921"
            ]
           ],
           "sequentialminus": [
            [
             0,
             "#0d0887"
            ],
            [
             0.1111111111111111,
             "#46039f"
            ],
            [
             0.2222222222222222,
             "#7201a8"
            ],
            [
             0.3333333333333333,
             "#9c179e"
            ],
            [
             0.4444444444444444,
             "#bd3786"
            ],
            [
             0.5555555555555556,
             "#d8576b"
            ],
            [
             0.6666666666666666,
             "#ed7953"
            ],
            [
             0.7777777777777778,
             "#fb9f3a"
            ],
            [
             0.8888888888888888,
             "#fdca26"
            ],
            [
             1,
             "#f0f921"
            ]
           ]
          },
          "colorway": [
           "#636efa",
           "#EF553B",
           "#00cc96",
           "#ab63fa",
           "#FFA15A",
           "#19d3f3",
           "#FF6692",
           "#B6E880",
           "#FF97FF",
           "#FECB52"
          ],
          "font": {
           "color": "#2a3f5f"
          },
          "geo": {
           "bgcolor": "white",
           "lakecolor": "white",
           "landcolor": "white",
           "showlakes": true,
           "showland": true,
           "subunitcolor": "#C8D4E3"
          },
          "hoverlabel": {
           "align": "left"
          },
          "hovermode": "closest",
          "mapbox": {
           "style": "light"
          },
          "paper_bgcolor": "white",
          "plot_bgcolor": "white",
          "polar": {
           "angularaxis": {
            "gridcolor": "#EBF0F8",
            "linecolor": "#EBF0F8",
            "ticks": ""
           },
           "bgcolor": "white",
           "radialaxis": {
            "gridcolor": "#EBF0F8",
            "linecolor": "#EBF0F8",
            "ticks": ""
           }
          },
          "scene": {
           "xaxis": {
            "backgroundcolor": "white",
            "gridcolor": "#DFE8F3",
            "gridwidth": 2,
            "linecolor": "#EBF0F8",
            "showbackground": true,
            "ticks": "",
            "zerolinecolor": "#EBF0F8"
           },
           "yaxis": {
            "backgroundcolor": "white",
            "gridcolor": "#DFE8F3",
            "gridwidth": 2,
            "linecolor": "#EBF0F8",
            "showbackground": true,
            "ticks": "",
            "zerolinecolor": "#EBF0F8"
           },
           "zaxis": {
            "backgroundcolor": "white",
            "gridcolor": "#DFE8F3",
            "gridwidth": 2,
            "linecolor": "#EBF0F8",
            "showbackground": true,
            "ticks": "",
            "zerolinecolor": "#EBF0F8"
           }
          },
          "shapedefaults": {
           "line": {
            "color": "#2a3f5f"
           }
          },
          "ternary": {
           "aaxis": {
            "gridcolor": "#DFE8F3",
            "linecolor": "#A2B1C6",
            "ticks": ""
           },
           "baxis": {
            "gridcolor": "#DFE8F3",
            "linecolor": "#A2B1C6",
            "ticks": ""
           },
           "bgcolor": "white",
           "caxis": {
            "gridcolor": "#DFE8F3",
            "linecolor": "#A2B1C6",
            "ticks": ""
           }
          },
          "title": {
           "x": 0.05
          },
          "xaxis": {
           "automargin": true,
           "gridcolor": "#EBF0F8",
           "linecolor": "#EBF0F8",
           "ticks": "",
           "title": {
            "standoff": 15
           },
           "zerolinecolor": "#EBF0F8",
           "zerolinewidth": 2
          },
          "yaxis": {
           "automargin": true,
           "gridcolor": "#EBF0F8",
           "linecolor": "#EBF0F8",
           "ticks": "",
           "title": {
            "standoff": 15
           },
           "zerolinecolor": "#EBF0F8",
           "zerolinewidth": 2
          }
         }
        },
        "title": {
         "text": "CNN training accuracy"
        },
        "xaxis": {
         "title": {
          "text": "Epochs"
         }
        },
        "yaxis": {
         "title": {
          "text": "CategoricalCrossentropy"
         }
        }
       }
      },
      "text/html": [
       "<div>                        <script type=\"text/javascript\">window.PlotlyConfig = {MathJaxConfig: 'local'};</script>\n",
       "        <script charset=\"utf-8\" src=\"https://cdn.plot.ly/plotly-2.32.0.min.js\"></script>                <div id=\"a1fc4201-f91d-4ba1-ab48-729a19f1e5f1\" class=\"plotly-graph-div\" style=\"height:100%; width:100%;\"></div>            <script type=\"text/javascript\">                                    window.PLOTLYENV=window.PLOTLYENV || {};                                    if (document.getElementById(\"a1fc4201-f91d-4ba1-ab48-729a19f1e5f1\")) {                    Plotly.newPlot(                        \"a1fc4201-f91d-4ba1-ab48-729a19f1e5f1\",                        [{\"line\":{\"color\":\"blue\"},\"marker\":{\"size\":3},\"mode\":\"lines\",\"name\":\"training accuracy\",\"x\":[0,1,2,3,4,5,6,7,8,9,10,11,12,13,14,15,16,17,18,19],\"y\":[0.5665000081062317,0.8320000171661377,0.8955000042915344,0.9229999780654907,0.9449999928474426,0.9430000185966492,0.9545000195503235,0.9635000228881836,0.9649999737739563,0.965499997138977,0.968999981880188,0.9725000262260437,0.9739999771118164,0.9614999890327454,0.9810000061988831,0.9775000214576721,0.9775000214576721,0.9779999852180481,0.9804999828338623,0.9764999747276306],\"type\":\"scatter\"},{\"line\":{\"color\":\"grey\"},\"mode\":\"lines\",\"name\":\"Validation accuracy\",\"x\":[0,1,2,3,4,5,6,7,8,9,10,11,12,13,14,15,16,17,18,19],\"y\":[0.9125000238418579,0.9599999785423279,0.96875,0.987500011920929,0.9837499856948853,0.9887499809265137,0.9887499809265137,0.9900000095367432,0.9925000071525574,0.9962499737739563,0.9950000047683716,0.9950000047683716,0.9975000023841858,0.9937499761581421,0.9950000047683716,0.9925000071525574,0.9887499809265137,0.9962499737739563,0.9937499761581421,1.0],\"type\":\"scatter\"}],                        {\"template\":{\"data\":{\"barpolar\":[{\"marker\":{\"line\":{\"color\":\"white\",\"width\":0.5},\"pattern\":{\"fillmode\":\"overlay\",\"size\":10,\"solidity\":0.2}},\"type\":\"barpolar\"}],\"bar\":[{\"error_x\":{\"color\":\"#2a3f5f\"},\"error_y\":{\"color\":\"#2a3f5f\"},\"marker\":{\"line\":{\"color\":\"white\",\"width\":0.5},\"pattern\":{\"fillmode\":\"overlay\",\"size\":10,\"solidity\":0.2}},\"type\":\"bar\"}],\"carpet\":[{\"aaxis\":{\"endlinecolor\":\"#2a3f5f\",\"gridcolor\":\"#C8D4E3\",\"linecolor\":\"#C8D4E3\",\"minorgridcolor\":\"#C8D4E3\",\"startlinecolor\":\"#2a3f5f\"},\"baxis\":{\"endlinecolor\":\"#2a3f5f\",\"gridcolor\":\"#C8D4E3\",\"linecolor\":\"#C8D4E3\",\"minorgridcolor\":\"#C8D4E3\",\"startlinecolor\":\"#2a3f5f\"},\"type\":\"carpet\"}],\"choropleth\":[{\"colorbar\":{\"outlinewidth\":0,\"ticks\":\"\"},\"type\":\"choropleth\"}],\"contourcarpet\":[{\"colorbar\":{\"outlinewidth\":0,\"ticks\":\"\"},\"type\":\"contourcarpet\"}],\"contour\":[{\"colorbar\":{\"outlinewidth\":0,\"ticks\":\"\"},\"colorscale\":[[0.0,\"#0d0887\"],[0.1111111111111111,\"#46039f\"],[0.2222222222222222,\"#7201a8\"],[0.3333333333333333,\"#9c179e\"],[0.4444444444444444,\"#bd3786\"],[0.5555555555555556,\"#d8576b\"],[0.6666666666666666,\"#ed7953\"],[0.7777777777777778,\"#fb9f3a\"],[0.8888888888888888,\"#fdca26\"],[1.0,\"#f0f921\"]],\"type\":\"contour\"}],\"heatmapgl\":[{\"colorbar\":{\"outlinewidth\":0,\"ticks\":\"\"},\"colorscale\":[[0.0,\"#0d0887\"],[0.1111111111111111,\"#46039f\"],[0.2222222222222222,\"#7201a8\"],[0.3333333333333333,\"#9c179e\"],[0.4444444444444444,\"#bd3786\"],[0.5555555555555556,\"#d8576b\"],[0.6666666666666666,\"#ed7953\"],[0.7777777777777778,\"#fb9f3a\"],[0.8888888888888888,\"#fdca26\"],[1.0,\"#f0f921\"]],\"type\":\"heatmapgl\"}],\"heatmap\":[{\"colorbar\":{\"outlinewidth\":0,\"ticks\":\"\"},\"colorscale\":[[0.0,\"#0d0887\"],[0.1111111111111111,\"#46039f\"],[0.2222222222222222,\"#7201a8\"],[0.3333333333333333,\"#9c179e\"],[0.4444444444444444,\"#bd3786\"],[0.5555555555555556,\"#d8576b\"],[0.6666666666666666,\"#ed7953\"],[0.7777777777777778,\"#fb9f3a\"],[0.8888888888888888,\"#fdca26\"],[1.0,\"#f0f921\"]],\"type\":\"heatmap\"}],\"histogram2dcontour\":[{\"colorbar\":{\"outlinewidth\":0,\"ticks\":\"\"},\"colorscale\":[[0.0,\"#0d0887\"],[0.1111111111111111,\"#46039f\"],[0.2222222222222222,\"#7201a8\"],[0.3333333333333333,\"#9c179e\"],[0.4444444444444444,\"#bd3786\"],[0.5555555555555556,\"#d8576b\"],[0.6666666666666666,\"#ed7953\"],[0.7777777777777778,\"#fb9f3a\"],[0.8888888888888888,\"#fdca26\"],[1.0,\"#f0f921\"]],\"type\":\"histogram2dcontour\"}],\"histogram2d\":[{\"colorbar\":{\"outlinewidth\":0,\"ticks\":\"\"},\"colorscale\":[[0.0,\"#0d0887\"],[0.1111111111111111,\"#46039f\"],[0.2222222222222222,\"#7201a8\"],[0.3333333333333333,\"#9c179e\"],[0.4444444444444444,\"#bd3786\"],[0.5555555555555556,\"#d8576b\"],[0.6666666666666666,\"#ed7953\"],[0.7777777777777778,\"#fb9f3a\"],[0.8888888888888888,\"#fdca26\"],[1.0,\"#f0f921\"]],\"type\":\"histogram2d\"}],\"histogram\":[{\"marker\":{\"pattern\":{\"fillmode\":\"overlay\",\"size\":10,\"solidity\":0.2}},\"type\":\"histogram\"}],\"mesh3d\":[{\"colorbar\":{\"outlinewidth\":0,\"ticks\":\"\"},\"type\":\"mesh3d\"}],\"parcoords\":[{\"line\":{\"colorbar\":{\"outlinewidth\":0,\"ticks\":\"\"}},\"type\":\"parcoords\"}],\"pie\":[{\"automargin\":true,\"type\":\"pie\"}],\"scatter3d\":[{\"line\":{\"colorbar\":{\"outlinewidth\":0,\"ticks\":\"\"}},\"marker\":{\"colorbar\":{\"outlinewidth\":0,\"ticks\":\"\"}},\"type\":\"scatter3d\"}],\"scattercarpet\":[{\"marker\":{\"colorbar\":{\"outlinewidth\":0,\"ticks\":\"\"}},\"type\":\"scattercarpet\"}],\"scattergeo\":[{\"marker\":{\"colorbar\":{\"outlinewidth\":0,\"ticks\":\"\"}},\"type\":\"scattergeo\"}],\"scattergl\":[{\"marker\":{\"colorbar\":{\"outlinewidth\":0,\"ticks\":\"\"}},\"type\":\"scattergl\"}],\"scattermapbox\":[{\"marker\":{\"colorbar\":{\"outlinewidth\":0,\"ticks\":\"\"}},\"type\":\"scattermapbox\"}],\"scatterpolargl\":[{\"marker\":{\"colorbar\":{\"outlinewidth\":0,\"ticks\":\"\"}},\"type\":\"scatterpolargl\"}],\"scatterpolar\":[{\"marker\":{\"colorbar\":{\"outlinewidth\":0,\"ticks\":\"\"}},\"type\":\"scatterpolar\"}],\"scatter\":[{\"fillpattern\":{\"fillmode\":\"overlay\",\"size\":10,\"solidity\":0.2},\"type\":\"scatter\"}],\"scatterternary\":[{\"marker\":{\"colorbar\":{\"outlinewidth\":0,\"ticks\":\"\"}},\"type\":\"scatterternary\"}],\"surface\":[{\"colorbar\":{\"outlinewidth\":0,\"ticks\":\"\"},\"colorscale\":[[0.0,\"#0d0887\"],[0.1111111111111111,\"#46039f\"],[0.2222222222222222,\"#7201a8\"],[0.3333333333333333,\"#9c179e\"],[0.4444444444444444,\"#bd3786\"],[0.5555555555555556,\"#d8576b\"],[0.6666666666666666,\"#ed7953\"],[0.7777777777777778,\"#fb9f3a\"],[0.8888888888888888,\"#fdca26\"],[1.0,\"#f0f921\"]],\"type\":\"surface\"}],\"table\":[{\"cells\":{\"fill\":{\"color\":\"#EBF0F8\"},\"line\":{\"color\":\"white\"}},\"header\":{\"fill\":{\"color\":\"#C8D4E3\"},\"line\":{\"color\":\"white\"}},\"type\":\"table\"}]},\"layout\":{\"annotationdefaults\":{\"arrowcolor\":\"#2a3f5f\",\"arrowhead\":0,\"arrowwidth\":1},\"autotypenumbers\":\"strict\",\"coloraxis\":{\"colorbar\":{\"outlinewidth\":0,\"ticks\":\"\"}},\"colorscale\":{\"diverging\":[[0,\"#8e0152\"],[0.1,\"#c51b7d\"],[0.2,\"#de77ae\"],[0.3,\"#f1b6da\"],[0.4,\"#fde0ef\"],[0.5,\"#f7f7f7\"],[0.6,\"#e6f5d0\"],[0.7,\"#b8e186\"],[0.8,\"#7fbc41\"],[0.9,\"#4d9221\"],[1,\"#276419\"]],\"sequential\":[[0.0,\"#0d0887\"],[0.1111111111111111,\"#46039f\"],[0.2222222222222222,\"#7201a8\"],[0.3333333333333333,\"#9c179e\"],[0.4444444444444444,\"#bd3786\"],[0.5555555555555556,\"#d8576b\"],[0.6666666666666666,\"#ed7953\"],[0.7777777777777778,\"#fb9f3a\"],[0.8888888888888888,\"#fdca26\"],[1.0,\"#f0f921\"]],\"sequentialminus\":[[0.0,\"#0d0887\"],[0.1111111111111111,\"#46039f\"],[0.2222222222222222,\"#7201a8\"],[0.3333333333333333,\"#9c179e\"],[0.4444444444444444,\"#bd3786\"],[0.5555555555555556,\"#d8576b\"],[0.6666666666666666,\"#ed7953\"],[0.7777777777777778,\"#fb9f3a\"],[0.8888888888888888,\"#fdca26\"],[1.0,\"#f0f921\"]]},\"colorway\":[\"#636efa\",\"#EF553B\",\"#00cc96\",\"#ab63fa\",\"#FFA15A\",\"#19d3f3\",\"#FF6692\",\"#B6E880\",\"#FF97FF\",\"#FECB52\"],\"font\":{\"color\":\"#2a3f5f\"},\"geo\":{\"bgcolor\":\"white\",\"lakecolor\":\"white\",\"landcolor\":\"white\",\"showlakes\":true,\"showland\":true,\"subunitcolor\":\"#C8D4E3\"},\"hoverlabel\":{\"align\":\"left\"},\"hovermode\":\"closest\",\"mapbox\":{\"style\":\"light\"},\"paper_bgcolor\":\"white\",\"plot_bgcolor\":\"white\",\"polar\":{\"angularaxis\":{\"gridcolor\":\"#EBF0F8\",\"linecolor\":\"#EBF0F8\",\"ticks\":\"\"},\"bgcolor\":\"white\",\"radialaxis\":{\"gridcolor\":\"#EBF0F8\",\"linecolor\":\"#EBF0F8\",\"ticks\":\"\"}},\"scene\":{\"xaxis\":{\"backgroundcolor\":\"white\",\"gridcolor\":\"#DFE8F3\",\"gridwidth\":2,\"linecolor\":\"#EBF0F8\",\"showbackground\":true,\"ticks\":\"\",\"zerolinecolor\":\"#EBF0F8\"},\"yaxis\":{\"backgroundcolor\":\"white\",\"gridcolor\":\"#DFE8F3\",\"gridwidth\":2,\"linecolor\":\"#EBF0F8\",\"showbackground\":true,\"ticks\":\"\",\"zerolinecolor\":\"#EBF0F8\"},\"zaxis\":{\"backgroundcolor\":\"white\",\"gridcolor\":\"#DFE8F3\",\"gridwidth\":2,\"linecolor\":\"#EBF0F8\",\"showbackground\":true,\"ticks\":\"\",\"zerolinecolor\":\"#EBF0F8\"}},\"shapedefaults\":{\"line\":{\"color\":\"#2a3f5f\"}},\"ternary\":{\"aaxis\":{\"gridcolor\":\"#DFE8F3\",\"linecolor\":\"#A2B1C6\",\"ticks\":\"\"},\"baxis\":{\"gridcolor\":\"#DFE8F3\",\"linecolor\":\"#A2B1C6\",\"ticks\":\"\"},\"bgcolor\":\"white\",\"caxis\":{\"gridcolor\":\"#DFE8F3\",\"linecolor\":\"#A2B1C6\",\"ticks\":\"\"}},\"title\":{\"x\":0.05},\"xaxis\":{\"automargin\":true,\"gridcolor\":\"#EBF0F8\",\"linecolor\":\"#EBF0F8\",\"ticks\":\"\",\"title\":{\"standoff\":15},\"zerolinecolor\":\"#EBF0F8\",\"zerolinewidth\":2},\"yaxis\":{\"automargin\":true,\"gridcolor\":\"#EBF0F8\",\"linecolor\":\"#EBF0F8\",\"ticks\":\"\",\"title\":{\"standoff\":15},\"zerolinecolor\":\"#EBF0F8\",\"zerolinewidth\":2}}},\"title\":{\"text\":\"CNN training accuracy\"},\"xaxis\":{\"title\":{\"text\":\"Epochs\"}},\"yaxis\":{\"title\":{\"text\":\"CategoricalCrossentropy\"}},\"plot_bgcolor\":\"#f2f8fd\",\"paper_bgcolor\":\"white\"},                        {\"responsive\": true}                    )                };                            </script>        </div>"
      ],
      "text/plain": [
       "Figure({\n",
       "    'data': [{'line': {'color': 'blue'},\n",
       "              'marker': {'size': 3},\n",
       "              'mode': 'lines',\n",
       "              'name': 'training accuracy',\n",
       "              'type': 'scatter',\n",
       "              'x': array([ 0,  1,  2,  3,  4,  5,  6,  7,  8,  9, 10, 11, 12, 13, 14, 15, 16, 17,\n",
       "                          18, 19]),\n",
       "              'y': [0.5665000081062317, 0.8320000171661377, 0.8955000042915344,\n",
       "                    0.9229999780654907, 0.9449999928474426, 0.9430000185966492,\n",
       "                    0.9545000195503235, 0.9635000228881836, 0.9649999737739563,\n",
       "                    0.965499997138977, 0.968999981880188, 0.9725000262260437,\n",
       "                    0.9739999771118164, 0.9614999890327454, 0.9810000061988831,\n",
       "                    0.9775000214576721, 0.9775000214576721, 0.9779999852180481,\n",
       "                    0.9804999828338623, 0.9764999747276306]},\n",
       "             {'line': {'color': 'grey'},\n",
       "              'mode': 'lines',\n",
       "              'name': 'Validation accuracy',\n",
       "              'type': 'scatter',\n",
       "              'x': array([ 0,  1,  2,  3,  4,  5,  6,  7,  8,  9, 10, 11, 12, 13, 14, 15, 16, 17,\n",
       "                          18, 19]),\n",
       "              'y': [0.9125000238418579, 0.9599999785423279, 0.96875,\n",
       "                    0.987500011920929, 0.9837499856948853, 0.9887499809265137,\n",
       "                    0.9887499809265137, 0.9900000095367432, 0.9925000071525574,\n",
       "                    0.9962499737739563, 0.9950000047683716, 0.9950000047683716,\n",
       "                    0.9975000023841858, 0.9937499761581421, 0.9950000047683716,\n",
       "                    0.9925000071525574, 0.9887499809265137, 0.9962499737739563,\n",
       "                    0.9937499761581421, 1.0]}],\n",
       "    'layout': {'paper_bgcolor': 'white',\n",
       "               'plot_bgcolor': '#f2f8fd',\n",
       "               'template': '...',\n",
       "               'title': {'text': 'CNN training accuracy'},\n",
       "               'xaxis': {'title': {'text': 'Epochs'}},\n",
       "               'yaxis': {'title': {'text': 'CategoricalCrossentropy'}}}\n",
       "})"
      ]
     },
     "execution_count": 40,
     "metadata": {},
     "output_type": "execute_result"
    }
   ],
   "source": [
    "#visualize training accuracy & validation accuracy\n",
    "fig = go.Figure()\n",
    "epochs = 20\n",
    "fig.add_trace(go.Scatter(x=np.arange(0,epochs,1),\n",
    "y=history.history['categorical_accuracy'],\n",
    "mode='lines',\n",
    "name=f'training accuracy',\n",
    "marker_size=3,\n",
    "line_color='blue'))\n",
    "fig.add_trace(go.Scatter(x=np.arange(0, epochs, 1),\n",
    "                         y=history.history['val_categorical_accuracy'],\n",
    "                         mode='lines',\n",
    "                         name=f'Validation accuracy',\n",
    "                         line_color='grey'))\n",
    "fig.update_layout(\n",
    "                  title=\"CNN training accuracy\",\n",
    "                  xaxis_title=\"Epochs\",\n",
    "                  yaxis_title=f\"CategoricalCrossentropy\")\n",
    "                  \n",
    "fig.update_layout({'plot_bgcolor': '#f2f8fd' , \n",
    "                   'paper_bgcolor': 'white',}, \n",
    "                   template='plotly_white')"
   ]
  },
  {
   "cell_type": "markdown",
   "id": "3eee4673",
   "metadata": {
    "papermill": {
     "duration": 1.880741,
     "end_time": "2024-04-26T02:52:10.704908",
     "exception": false,
     "start_time": "2024-04-26T02:52:08.824167",
     "status": "completed"
    },
    "tags": []
   },
   "source": [
    "<a id=\"Train Model:\"></a>\n",
    "# Test Model to new data"
   ]
  },
  {
   "cell_type": "code",
   "execution_count": 34,
   "id": "f2abe3d7",
   "metadata": {
    "execution": {
     "iopub.execute_input": "2024-04-26T02:52:14.522000Z",
     "iopub.status.busy": "2024-04-26T02:52:14.521576Z",
     "iopub.status.idle": "2024-04-26T02:52:14.542154Z",
     "shell.execute_reply": "2024-04-26T02:52:14.540473Z"
    },
    "papermill": {
     "duration": 1.968564,
     "end_time": "2024-04-26T02:52:14.544677",
     "exception": false,
     "start_time": "2024-04-26T02:52:12.576113",
     "status": "completed"
    },
    "tags": []
   },
   "outputs": [
    {
     "name": "stdout",
     "output_type": "stream",
     "text": [
      "<class 'pandas.core.frame.DataFrame'>\n",
      "Index: 3015 entries, 14186 to 327\n",
      "Data columns (total 2 columns):\n",
      " #   Column  Non-Null Count  Dtype \n",
      "---  ------  --------------  ----- \n",
      " 0   Image   3015 non-null   object\n",
      " 1   Label   3015 non-null   object\n",
      "dtypes: object(2)\n",
      "memory usage: 70.7+ KB\n"
     ]
    }
   ],
   "source": [
    "x_test.info()\n",
    "x_test.tail(20)\n",
    "samples= x_test.sample(n=5)\n"
   ]
  },
  {
   "cell_type": "code",
   "execution_count": 35,
   "id": "fbbd72e5",
   "metadata": {
    "execution": {
     "iopub.execute_input": "2024-04-26T02:52:18.223811Z",
     "iopub.status.busy": "2024-04-26T02:52:18.222950Z",
     "iopub.status.idle": "2024-04-26T02:52:18.452079Z",
     "shell.execute_reply": "2024-04-26T02:52:18.450824Z"
    },
    "papermill": {
     "duration": 2.118323,
     "end_time": "2024-04-26T02:52:18.455435",
     "exception": false,
     "start_time": "2024-04-26T02:52:16.337112",
     "status": "completed"
    },
    "tags": []
   },
   "outputs": [],
   "source": [
    "model = load_model('./handG_R.h5',compile=True)\n"
   ]
  },
  {
   "cell_type": "markdown",
   "id": "d2f0a3ae",
   "metadata": {
    "papermill": {
     "duration": 1.803239,
     "end_time": "2024-04-26T02:52:22.196280",
     "exception": false,
     "start_time": "2024-04-26T02:52:20.393041",
     "status": "completed"
    },
    "tags": []
   },
   "source": []
  },
  {
   "cell_type": "code",
   "execution_count": null,
   "id": "3a2f10e7",
   "metadata": {
    "papermill": {
     "duration": 1.978752,
     "end_time": "2024-04-26T02:52:26.080998",
     "exception": false,
     "start_time": "2024-04-26T02:52:24.102246",
     "status": "completed"
    },
    "tags": []
   },
   "outputs": [],
   "source": []
  }
 ],
 "metadata": {
  "kaggle": {
   "accelerator": "none",
   "dataSources": [
    {
     "datasetId": 39466,
     "sourceId": 61155,
     "sourceType": "datasetVersion"
    }
   ],
   "dockerImageVersionId": 30673,
   "isGpuEnabled": false,
   "isInternetEnabled": true,
   "language": "python",
   "sourceType": "notebook"
  },
  "kernelspec": {
   "display_name": "Python 3",
   "language": "python",
   "name": "python3"
  },
  "language_info": {
   "codemirror_mode": {
    "name": "ipython",
    "version": 3
   },
   "file_extension": ".py",
   "mimetype": "text/x-python",
   "name": "python",
   "nbconvert_exporter": "python",
   "pygments_lexer": "ipython3",
   "version": "3.10.14"
  },
  "papermill": {
   "default_parameters": {},
   "duration": 1534.553482,
   "end_time": "2024-04-26T02:52:30.759725",
   "environment_variables": {},
   "exception": null,
   "input_path": "__notebook__.ipynb",
   "output_path": "__notebook__.ipynb",
   "parameters": {},
   "start_time": "2024-04-26T02:26:56.206243",
   "version": "2.5.0"
  }
 },
 "nbformat": 4,
 "nbformat_minor": 5
}
